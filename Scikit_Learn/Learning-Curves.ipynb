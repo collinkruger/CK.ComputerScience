{
 "cells": [
  {
   "cell_type": "markdown",
   "source": [
    "# Learning Curves\n",
    "Code largely sourced from [https://github.com/rasbt/python-machine-learning-book-3rd-edition/blob/master/ch06/ch06.ipynb](https://github.com/rasbt/python-machine-learning-book-3rd-edition/blob/master/ch06/ch06.ipynb) and [https://scikit-learn.org/stable/modules/generated/sklearn.model_selection.learning_curve.html](https://scikit-learn.org/stable/modules/generated/sklearn.model_selection.learning_curve.html)"
   ],
   "metadata": {
    "collapsed": false
   }
  },
  {
   "cell_type": "code",
   "execution_count": 1,
   "outputs": [],
   "source": [
    "from sklearn.model_selection import learning_curve"
   ],
   "metadata": {
    "collapsed": false,
    "pycharm": {
     "name": "#%%\n"
    }
   }
  },
  {
   "cell_type": "markdown",
   "source": [
    "# Get/Create Some Data"
   ],
   "metadata": {
    "collapsed": false
   }
  },
  {
   "cell_type": "code",
   "execution_count": 2,
   "outputs": [],
   "source": [
    "from sklearn.model_selection import train_test_split\n",
    "import ck_helpers.example_data as ckdata\n",
    "\n",
    "(X, Y) = ckdata.AND(20, random_state=42)\n",
    "\n",
    "(X_train, X_test, Y_train, Y_test) = train_test_split(X, Y, train_size=0.75, random_state=42)"
   ],
   "metadata": {
    "collapsed": false,
    "pycharm": {
     "name": "#%%\n"
    }
   }
  },
  {
   "cell_type": "markdown",
   "source": [
    "## Construct An \"Estimator\"\n",
    "This can be anything that implements \"fit\" and \"predict\" methods.\n",
    "SEE: [https://scikit-learn.org/stable/modules/generated/sklearn.model_selection.learning_curve.html](https://scikit-learn.org/stable/modules/generated/sklearn.model_selection.learning_curve.html)"
   ],
   "metadata": {
    "collapsed": false
   }
  },
  {
   "cell_type": "code",
   "execution_count": 3,
   "outputs": [],
   "source": [
    "from sklearn.tree import DecisionTreeClassifier\n",
    "\n",
    "estimator = DecisionTreeClassifier()"
   ],
   "metadata": {
    "collapsed": false,
    "pycharm": {
     "name": "#%%\n"
    }
   }
  },
  {
   "cell_type": "markdown",
   "source": [
    "## Supply Data And The \"Estimator\" To learning_curve\n",
    "NOTE: There are many more parameters which can be found at https://scikit-learn.org/stable/modules/generated/sklearn.model_selection.learning_curve.html"
   ],
   "metadata": {
    "collapsed": false
   }
  },
  {
   "cell_type": "code",
   "execution_count": 4,
   "outputs": [],
   "source": [
    "from sklearn.metrics import mean_squared_error, make_scorer\n",
    "import numpy as np\n",
    "\n",
    "curve = learning_curve(estimator=estimator, # An Estimator\n",
    "                       X = X,               # X\n",
    "                       y = Y,               # Y\n",
    "                       n_jobs = -1,         # Number of processes to run in parallel. -1 means use all available processors.\n",
    "                       return_times=True,   # Include training/testing clock time if you like\n",
    "                       train_sizes = np.linspace(0.1, 1.0, 10)) # Specify a list of percentages of data that should be used for testing"
   ],
   "metadata": {
    "collapsed": false,
    "pycharm": {
     "name": "#%%\n"
    }
   }
  },
  {
   "cell_type": "code",
   "execution_count": 5,
   "outputs": [],
   "source": [
    "# Decompose the curve object into it's constituent parts if you like\n",
    "(train_sizes, train_scores_per_train_size, test_scores_per_train_size, fit_times_per_train_size, test_times_per_train_size) = curve"
   ],
   "metadata": {
    "collapsed": false,
    "pycharm": {
     "name": "#%%\n"
    }
   }
  },
  {
   "cell_type": "markdown",
   "source": [
    "## Plot The Learning Curve"
   ],
   "metadata": {
    "collapsed": false
   }
  },
  {
   "cell_type": "code",
   "execution_count": 6,
   "outputs": [
    {
     "data": {
      "text/plain": "<Figure size 432x288 with 1 Axes>",
      "image/png": "[encoded data removed]"
     },
     "metadata": {
      "needs_background": "light"
     },
     "output_type": "display_data"
    }
   ],
   "source": [
    "import numpy as np\n",
    "import matplotlib.pyplot as plt\n",
    "\n",
    "# Find Mean and Standard Deviation To Plot A Solid Line And Standard Deviation Window Respectively\n",
    "train_scores_mean = np.mean(train_scores_per_train_size, axis=1)\n",
    "train_scores_std = np.std(train_scores_per_train_size, axis=1)\n",
    "test_scores_mean = np.mean(test_scores_per_train_size, axis=1)\n",
    "test_scores_std = np.std(test_scores_per_train_size, axis=1)\n",
    "\n",
    "# Plot The Training Data Learning Curve And Validation Data Curve\n",
    "plt.plot(train_sizes, train_scores_mean, \"o-\", color=\"r\")\n",
    "plt.plot(train_sizes, test_scores_mean, \"o-\", color=\"g\")\n",
    "plt.legend([\"Training Score\", \"Cross-Validation Score\"])\n",
    "\n",
    "# Plot The Training Data Standard Deviation Window\n",
    "plt.fill_between(\n",
    "    train_sizes,\n",
    "    train_scores_mean - train_scores_std,\n",
    "    train_scores_mean + train_scores_std,\n",
    "    alpha=0.1,\n",
    "    color=\"r\",\n",
    ")\n",
    "\n",
    "# Plot The Validation Data Standard Deviation Windows\n",
    "plt.fill_between(\n",
    "    train_sizes,\n",
    "    test_scores_mean - test_scores_std,\n",
    "    test_scores_mean + test_scores_std,\n",
    "    alpha=0.1,\n",
    "    color=\"g\",\n",
    ")\n",
    "\n",
    "# Label Things :)\n",
    "plt.title(\"Learning Curve\")\n",
    "plt.xlabel(\"# Of Training Examples\")\n",
    "plt.ylabel(\"Score\")\n",
    "\n",
    "plt.show()"
   ],
   "metadata": {
    "collapsed": false,
    "pycharm": {
     "name": "#%%\n"
    }
   }
  }
 ],
 "metadata": {
  "kernelspec": {
   "display_name": "Python 3",
   "language": "python",
   "name": "python3"
  },
  "language_info": {
   "codemirror_mode": {
    "name": "ipython",
    "version": 2
   },
   "file_extension": ".py",
   "mimetype": "text/x-python",
   "name": "python",
   "nbconvert_exporter": "python",
   "pygments_lexer": "ipython2",
   "version": "2.7.6"
  }
 },
 "nbformat": 4,
 "nbformat_minor": 0
}