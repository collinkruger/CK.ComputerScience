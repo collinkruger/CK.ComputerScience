{
 "cells": [
  {
   "cell_type": "markdown",
   "metadata": {
    "collapsed": true,
    "pycharm": {
     "name": "#%% md\n"
    }
   },
   "source": [
    "# Grid Search\n",
    "Code largely sourced from [https://github.com/rasbt/python-machine-learning-book-3rd-edition/blob/master/ch06/ch06.ipynb](https://github.com/rasbt/python-machine-learning-book-3rd-edition/blob/master/ch06/ch06.ipynb) and [https://scikit-learn.org/stable/modules/generated/sklearn.model_selection.GridSearchCV.html](https://scikit-learn.org/stable/modules/generated/sklearn.model_selection.GridSearchCV.html)\n",
    "\n",
    "GridSearchCV is a brute force way to test the product of many hyperparameter ranges. For example if you were choose the values [1, 2, 3] for some hyperparameter A and [\"x\", \"y\", \"z\"] for some hyperparameter B, GridSearchCSV will create combinations of each of those parameters (ex: (1, \"x\"), (1, \"y), ... , (3, \"y\"), (3, \"z\")) for a total of 9 different parameter pairs, that it will then train/score."
   ]
  },
  {
   "cell_type": "code",
   "execution_count": 1,
   "outputs": [],
   "source": [
    "from sklearn.model_selection import GridSearchCV"
   ],
   "metadata": {
    "collapsed": false,
    "pycharm": {
     "name": "#%%\n"
    }
   }
  },
  {
   "cell_type": "markdown",
   "source": [
    "## Get/Create Some Data"
   ],
   "metadata": {
    "collapsed": false
   }
  },
  {
   "cell_type": "code",
   "execution_count": 2,
   "outputs": [],
   "source": [
    "from sklearn.model_selection import train_test_split\n",
    "import ck_helpers.example_data as ckdata\n",
    "\n",
    "(X, Y) = ckdata.AND(20, random_state=42)\n",
    "\n",
    "(X_train, X_test, Y_train, Y_test) = train_test_split(X, Y, train_size=0.75, random_state=42)"
   ],
   "metadata": {
    "collapsed": false,
    "pycharm": {
     "name": "#%%\n"
    }
   }
  },
  {
   "cell_type": "markdown",
   "source": [
    "## Create A Range(s) Of Hyperparameters And An Estimator"
   ],
   "metadata": {
    "collapsed": false
   }
  },
  {
   "cell_type": "code",
   "execution_count": 3,
   "outputs": [],
   "source": [
    "from sklearn.tree import DecisionTreeClassifier\n",
    "\n",
    "parameter_ranges = {\n",
    "    'criterion': ['entropy', 'gini'],\n",
    "    'max_depth': [1, 2, 3, 4, 5, 6, 7, 8, 9, 10],\n",
    "    'ccp_alpha': [0.0, 0.1, 0.2, 0.3, 0.4, 0.5, 0.6, 0.7, 0.8, 0.9, 1.0]\n",
    "}\n",
    "\n",
    "estimator = DecisionTreeClassifier(random_state=42)"
   ],
   "metadata": {
    "collapsed": false,
    "pycharm": {
     "name": "#%%\n"
    }
   }
  },
  {
   "cell_type": "markdown",
   "source": [
    "## Construct The GridSearchCV\n",
    "\n",
    "NOTE: There are many parameters/hyperparameters which can be found at [https://scikit-learn.org/stable/modules/generated/sklearn.model_selection.GridSearchCV.html](https://scikit-learn.org/stable/modules/generated/sklearn.model_selection.GridSearchCV.html)"
   ],
   "metadata": {
    "collapsed": false
   }
  },
  {
   "cell_type": "code",
   "execution_count": 4,
   "outputs": [],
   "source": [
    "gs = GridSearchCV(param_grid=parameter_ranges,\n",
    "                  estimator=estimator,\n",
    "                  scoring='accuracy', # The scoring methodology can be configured (one, many, or your own scoring), giving the algorithm better ways to evaluate its performance (ex: using 'f1' for imbalanced data. SEE documentation for a better explanation, and see what is available).\n",
    "                  refit=True,         # Once the best tuple of hyperparameters is found, refit the estimator with those hyperparameters. This enables using the GridSearchCV directly after fitting.\n",
    "                  n_jobs=-1)          # Number of processes to run in parallel. -1 means use all available processors."
   ],
   "metadata": {
    "collapsed": false,
    "pycharm": {
     "name": "#%%\n"
    }
   }
  },
  {
   "cell_type": "markdown",
   "source": [
    "## Train The GridSearchCV (call \"fit\")"
   ],
   "metadata": {
    "collapsed": false
   }
  },
  {
   "cell_type": "code",
   "execution_count": 5,
   "outputs": [
    {
     "data": {
      "text/plain": "GridSearchCV(estimator=DecisionTreeClassifier(random_state=42), n_jobs=-1,\n             param_grid={'ccp_alpha': [0.0, 0.1, 0.2, 0.3, 0.4, 0.5, 0.6, 0.7,\n                                       0.8, 0.9, 1.0],\n                         'criterion': ['entropy', 'gini'],\n                         'max_depth': [1, 2, 3, 4, 5, 6, 7, 8, 9, 10]},\n             scoring='accuracy')"
     },
     "execution_count": 5,
     "metadata": {},
     "output_type": "execute_result"
    }
   ],
   "source": [
    "gs.fit(X_train, Y_train)"
   ],
   "metadata": {
    "collapsed": false,
    "pycharm": {
     "name": "#%%\n"
    }
   }
  },
  {
   "cell_type": "markdown",
   "source": [
    "## Score/Use The Best Estimator Or Hyperparameters"
   ],
   "metadata": {
    "collapsed": false
   }
  },
  {
   "cell_type": "code",
   "execution_count": 6,
   "outputs": [
    {
     "data": {
      "text/plain": "1.0"
     },
     "metadata": {},
     "output_type": "display_data"
    },
    {
     "data": {
      "text/plain": "DecisionTreeClassifier(criterion='entropy', max_depth=2, random_state=42)"
     },
     "metadata": {},
     "output_type": "display_data"
    },
    {
     "data": {
      "text/plain": "{'ccp_alpha': 0.0, 'criterion': 'entropy', 'max_depth': 2}"
     },
     "metadata": {},
     "output_type": "display_data"
    }
   ],
   "source": [
    "display( gs.best_score_ )\n",
    "display( gs.best_estimator_ )\n",
    "display( gs.best_params_ )"
   ],
   "metadata": {
    "collapsed": false,
    "pycharm": {
     "name": "#%%\n"
    }
   }
  },
  {
   "cell_type": "markdown",
   "source": [
    "## Or Score/Use The GridSearchCV (call \"score\" and \"predict\" respectively)"
   ],
   "metadata": {
    "collapsed": false
   }
  },
  {
   "cell_type": "code",
   "execution_count": 7,
   "outputs": [
    {
     "name": "stdout",
     "output_type": "stream",
     "text": [
      "Score:  1.0\n",
      "Predict (1 && 1) =  [1]\n",
      "Predict (1 && 0) =  [0]\n",
      "Predict (0 && 1) =  [0]\n",
      "Predict (0 && 0) =  [0]\n"
     ]
    }
   ],
   "source": [
    "print( \"Score: \", gs.score(X_test, Y_test) )\n",
    "\n",
    "print( \"Predict (1 && 1) = \", gs.predict([[1, 1]]) )\n",
    "print( \"Predict (1 && 0) = \", gs.predict([[1, 0]]) )\n",
    "print( \"Predict (0 && 1) = \", gs.predict([[0, 1]]) )\n",
    "print( \"Predict (0 && 0) = \", gs.predict([[0, 0]]) )\n",
    "\n",
    "# NOTE: gs.predict takes an array of inputs, so it can be used like so\n",
    "#       gs.predict([[0,0], [0, 1], [1, 0], [1, 1]])"
   ],
   "metadata": {
    "collapsed": false,
    "pycharm": {
     "name": "#%%\n"
    }
   }
  }
 ],
 "metadata": {
  "kernelspec": {
   "display_name": "Python 3",
   "language": "python",
   "name": "python3"
  },
  "language_info": {
   "codemirror_mode": {
    "name": "ipython",
    "version": 2
   },
   "file_extension": ".py",
   "mimetype": "text/x-python",
   "name": "python",
   "nbconvert_exporter": "python",
   "pygments_lexer": "ipython2",
   "version": "2.7.6"
  }
 },
 "nbformat": 4,
 "nbformat_minor": 0
}