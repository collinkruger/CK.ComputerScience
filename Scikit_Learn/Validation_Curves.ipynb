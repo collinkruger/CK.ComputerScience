{
 "cells": [
  {
   "cell_type": "markdown",
   "source": [
    "# Validation Curves\n",
    "Code largely sourced from [https://github.com/rasbt/python-machine-learning-book-3rd-edition/blob/master/ch06/ch06.ipynb](https://github.com/rasbt/python-machine-learning-book-3rd-edition/blob/master/ch06/ch06.ipynb) and [https://scikit-learn.org/stable/modules/generated/sklearn.model_selection.validation_curve.html](https://scikit-learn.org/stable/modules/generated/sklearn.model_selection.validation_curve.html)"
   ],
   "metadata": {
    "collapsed": false
   }
  },
  {
   "cell_type": "code",
   "execution_count": 1,
   "outputs": [],
   "source": [
    "from sklearn.model_selection import validation_curve"
   ],
   "metadata": {
    "collapsed": false,
    "pycharm": {
     "name": "#%%\n"
    }
   }
  },
  {
   "cell_type": "markdown",
   "source": [
    "# Get/Create Some Data"
   ],
   "metadata": {
    "collapsed": false
   }
  },
  {
   "cell_type": "code",
   "execution_count": 2,
   "outputs": [],
   "source": [
    "from sklearn.model_selection import train_test_split\n",
    "import ck_helpers.example_data as ckdata\n",
    "\n",
    "(X, Y) = ckdata.AND(20, random_state=42)\n",
    "\n",
    "(X_train, X_test, Y_train, Y_test) = train_test_split(X, Y, train_size=0.75, random_state=42)"
   ],
   "metadata": {
    "collapsed": false,
    "pycharm": {
     "name": "#%%\n"
    }
   }
  },
  {
   "cell_type": "markdown",
   "source": [
    "## Construct An \"Estimator\"\n",
    "This can be anything that implements \"fit\" and \"predict\" methods.\n",
    "SEE: [https://scikit-learn.org/stable/modules/generated/sklearn.model_selection.learning_curve.html](https://scikit-learn.org/stable/modules/generated/sklearn.model_selection.learning_curve.html)"
   ],
   "metadata": {
    "collapsed": false
   }
  },
  {
   "cell_type": "code",
   "execution_count": 3,
   "outputs": [],
   "source": [
    "from sklearn.tree import DecisionTreeClassifier\n",
    "\n",
    "estimator = DecisionTreeClassifier()"
   ],
   "metadata": {
    "collapsed": false,
    "pycharm": {
     "name": "#%%\n"
    }
   }
  },
  {
   "cell_type": "markdown",
   "source": [
    "## Supply Data, A Range Of Parameters, And The \"Estimator To validation_curve.\n",
    "NOTE: There are many more parameters which can be found at [https://scikit-learn.org/stable/modules/generated/sklearn.model_selection.validation_curve.html](https://scikit-learn.org/stable/modules/generated/sklearn.model_selection.validation_curve.html)"
   ],
   "metadata": {
    "collapsed": false
   }
  },
  {
   "cell_type": "code",
   "execution_count": 4,
   "outputs": [],
   "source": [
    "depths = [1, 2, 3, 4]\n",
    "\n",
    "curve = validation_curve(estimator=estimator,      # An Estimator\n",
    "                         X = X_train,              # X\n",
    "                         y = Y_train,               # Y\n",
    "                         param_name = \"max_depth\", # The Parameter of our Estimator that we want to vary\n",
    "                         param_range = depths,     # The range of Parameter values to use\n",
    "                         n_jobs = -1)              # Number of processes to run in parallel. -1 means use all available processors."
   ],
   "metadata": {
    "collapsed": false,
    "pycharm": {
     "name": "#%%\n"
    }
   }
  },
  {
   "cell_type": "code",
   "execution_count": 5,
   "outputs": [],
   "source": [
    "# Decompose the curve object into it's constituent parts if you like\n",
    "(train_scores_per_argument, test_scores_per_argument) = curve"
   ],
   "metadata": {
    "collapsed": false,
    "pycharm": {
     "name": "#%%\n"
    }
   }
  },
  {
   "cell_type": "markdown",
   "source": [
    "## Plot The Learning Curve"
   ],
   "metadata": {
    "collapsed": false
   }
  },
  {
   "cell_type": "code",
   "execution_count": 6,
   "outputs": [
    {
     "data": {
      "text/plain": "<Figure size 432x288 with 1 Axes>",
      "image/png": "[encoded data removed]"
     },
     "metadata": {
      "needs_background": "light"
     },
     "output_type": "display_data"
    }
   ],
   "source": [
    "import numpy as np\n",
    "import matplotlib.pyplot as plt\n",
    "\n",
    "# Find Mean and Standard Deviation To Plot A Solid Line And Standard Deviation Window Respectively\n",
    "train_scores_mean = np.mean(train_scores_per_argument, axis=1)\n",
    "train_scores_std = np.std(train_scores_per_argument, axis=1)\n",
    "test_scores_mean = np.mean(test_scores_per_argument, axis=1)\n",
    "test_scores_std = np.std(test_scores_per_argument, axis=1)\n",
    "\n",
    "# Plot The Training Data Validation Curve And Validation Data Validation Curves\n",
    "plt.plot(depths, train_scores_mean, color='blue', marker='o', markersize=5, label='Training accuracy')\n",
    "plt.plot(depths, test_scores_mean, color='green', linestyle='--', marker='s', markersize=5, label='Validation accuracy')\n",
    "plt.legend([\"Training Accuracy\", \"Validation Accuracy\"], loc=\"lower right\")\n",
    "\n",
    "# Plot The Training Data Standard Deviation Window\n",
    "plt.fill_between(\n",
    "    depths,\n",
    "    train_scores_mean + train_scores_std,\n",
    "    test_scores_mean - test_scores_std,\n",
    "    alpha=0.15,\n",
    "    color='blue'\n",
    ")\n",
    "\n",
    "# Plot The Validation Data Standard Deviation Windows\n",
    "plt.fill_between(\n",
    "    depths,\n",
    "    test_scores_mean + test_scores_std,\n",
    "    test_scores_mean - test_scores_std,\n",
    "    alpha=0.15,\n",
    "    color='green'\n",
    ")\n",
    "\n",
    "# Make The Plot Look Good, And Label Things :)\n",
    "plt.grid()\n",
    "plt.title(\"Validation Curve\")\n",
    "plt.xlabel(\"Tree Max Depth\")\n",
    "plt.ylabel(\"Score\")\n",
    "plt.show()"
   ],
   "metadata": {
    "collapsed": false,
    "pycharm": {
     "name": "#%%\n"
    }
   }
  }
 ],
 "metadata": {
  "kernelspec": {
   "display_name": "Python 3",
   "language": "python",
   "name": "python3"
  },
  "language_info": {
   "codemirror_mode": {
    "name": "ipython",
    "version": 2
   },
   "file_extension": ".py",
   "mimetype": "text/x-python",
   "name": "python",
   "nbconvert_exporter": "python",
   "pygments_lexer": "ipython2",
   "version": "2.7.6"
  }
 },
 "nbformat": 4,
 "nbformat_minor": 0
}