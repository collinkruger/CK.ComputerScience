{
 "cells": [
  {
   "cell_type": "markdown",
   "metadata": {
    "collapsed": true,
    "pycharm": {
     "name": "#%% md\n"
    }
   },
   "source": [
    "# AdaBoost\n",
    "Code largely sourced from [https://github.com/rasbt/python-machine-learning-book-3rd-edition/blob/master/ch07/ch07.ipynb](https://github.com/rasbt/python-machine-learning-book-3rd-edition/blob/master/ch07/ch07.ipynb)\n",
    "\n",
    "**NOTE A**: There are two implementations of AdaBoost in scikit-learn (Classification and Regression).\n",
    "**NOTE B**: AdaBoost **isn't** the only boosting or ensemble method neither in general nor in scikit-learn.\n",
    "SEE: [https://scikit-learn.org/stable/modules/classes.html#module-sklearn.ensemble](https://scikit-learn.org/stable/modules/classes.html#module-sklearn.ensemble)"
   ]
  },
  {
   "cell_type": "code",
   "execution_count": 1,
   "outputs": [],
   "source": [
    "from sklearn.ensemble import AdaBoostClassifier"
   ],
   "metadata": {
    "collapsed": false,
    "pycharm": {
     "name": "#%%\n"
    }
   }
  },
  {
   "cell_type": "markdown",
   "source": [
    "## Get/Create Some Data"
   ],
   "metadata": {
    "collapsed": false
   }
  },
  {
   "cell_type": "code",
   "execution_count": 2,
   "outputs": [],
   "source": [
    "from sklearn.model_selection import train_test_split\n",
    "import ck_helpers.example_data as ckdata\n",
    "\n",
    "(X, Y) = ckdata.AND(20, random_state=42)\n",
    "\n",
    "(X_train, X_test, Y_train, Y_test) = train_test_split(X, Y, train_size=0.75, random_state=42)"
   ],
   "metadata": {
    "collapsed": false,
    "pycharm": {
     "name": "#%%\n"
    }
   }
  },
  {
   "cell_type": "markdown",
   "source": [
    "## Construct A Base \"Estimator\"\n",
    "This will be cloned and used by AdaBoost a number of times.\n",
    "If no base estimator is supplied to AdaBoost, it will constructor a Decision Tree with `max_depth` set to 1."
   ],
   "metadata": {
    "collapsed": false
   }
  },
  {
   "cell_type": "code",
   "execution_count": 3,
   "outputs": [],
   "source": [
    "from sklearn.tree import DecisionTreeClassifier\n",
    "\n",
    "tree = DecisionTreeClassifier(max_depth=1,\n",
    "                              random_state=42)"
   ],
   "metadata": {
    "collapsed": false,
    "pycharm": {
     "name": "#%%\n"
    }
   }
  },
  {
   "cell_type": "markdown",
   "source": [
    "## Construct The AdaBoost\n",
    "\n",
    "NOTE: There are many parameters/hyperparameters (including some important ones such as `n_estimators` and `learning_rate`)which can be found at [https://scikit-learn.org/stable/modules/generated/sklearn.ensemble.AdaBoostClassifier.html](https://scikit-learn.org/stable/modules/generated/sklearn.ensemble.AdaBoostClassifier.html)"
   ],
   "metadata": {
    "collapsed": false
   }
  },
  {
   "cell_type": "code",
   "execution_count": 4,
   "outputs": [],
   "source": [
    "adaBoost = AdaBoostClassifier(base_estimator=tree,\n",
    "                              random_state=42)"
   ],
   "metadata": {
    "collapsed": false,
    "pycharm": {
     "name": "#%%\n"
    }
   }
  },
  {
   "cell_type": "markdown",
   "source": [
    "## Train The AdaBoost (call \"fit\")"
   ],
   "metadata": {
    "collapsed": false
   }
  },
  {
   "cell_type": "code",
   "execution_count": 5,
   "outputs": [
    {
     "data": {
      "text/plain": "AdaBoostClassifier(base_estimator=DecisionTreeClassifier(max_depth=1,\n                                                         random_state=42),\n                   random_state=42)"
     },
     "execution_count": 5,
     "metadata": {},
     "output_type": "execute_result"
    }
   ],
   "source": [
    "adaBoost.fit(X_train, Y_train)"
   ],
   "metadata": {
    "collapsed": false,
    "pycharm": {
     "name": "#%%\n"
    }
   }
  },
  {
   "cell_type": "markdown",
   "source": [
    "## Score/Use The Decision Tree (call \"score\" and \"predict\" respectively)"
   ],
   "metadata": {
    "collapsed": false
   }
  },
  {
   "cell_type": "code",
   "execution_count": 6,
   "outputs": [
    {
     "name": "stdout",
     "output_type": "stream",
     "text": [
      "Score:  1.0\n",
      "Predict (1 && 1) =  [1]\n",
      "Predict (1 && 0) =  [0]\n",
      "Predict (0 && 1) =  [0]\n",
      "Predict (0 && 0) =  [0]\n"
     ]
    }
   ],
   "source": [
    "print( \"Score: \", adaBoost.score(X_test, Y_test) )\n",
    "\n",
    "print( \"Predict (1 && 1) = \", adaBoost.predict([[1, 1]]) )\n",
    "print( \"Predict (1 && 0) = \", adaBoost.predict([[1, 0]]) )\n",
    "print( \"Predict (0 && 1) = \", adaBoost.predict([[0, 1]]) )\n",
    "print( \"Predict (0 && 0) = \", adaBoost.predict([[0, 0]]) )\n",
    "\n",
    "# NOTE: adaBoost.predict takes an array of inputs, so it can be used like so\n",
    "#       adaBoost.predict([[0,0], [0, 1], [1, 0], [1, 1]])"
   ],
   "metadata": {
    "collapsed": false,
    "pycharm": {
     "name": "#%%\n"
    }
   }
  }
 ],
 "metadata": {
  "kernelspec": {
   "display_name": "Python 3",
   "language": "python",
   "name": "python3"
  },
  "language_info": {
   "codemirror_mode": {
    "name": "ipython",
    "version": 2
   },
   "file_extension": ".py",
   "mimetype": "text/x-python",
   "name": "python",
   "nbconvert_exporter": "python",
   "pygments_lexer": "ipython2",
   "version": "2.7.6"
  }
 },
 "nbformat": 4,
 "nbformat_minor": 0
}