{
 "cells": [
  {
   "cell_type": "markdown",
   "metadata": {
    "collapsed": true,
    "pycharm": {
     "name": "#%% md\n"
    }
   },
   "source": [
    "# Support Vector Machines\n",
    "Code largely sourced from [https://github.com/rasbt/python-machine-learning-book-3rd-edition/blob/master/ch03/ch03.ipynb](https://github.com/rasbt/python-machine-learning-book-3rd-edition/blob/master/ch03/ch03.ipynb)\n",
    "\n",
    "**NOTE: There are several implementations of SVMs found within scikit-learn, each with their own strengths and weakness.**\n",
    "SEE: [https://scikit-learn.org/stable/modules/classes.html#module-sklearn.svm](https://scikit-learn.org/stable/modules/classes.html#module-sklearn.svm)"
   ]
  },
  {
   "cell_type": "code",
   "execution_count": 1,
   "outputs": [],
   "source": [
    "from sklearn.svm import SVC"
   ],
   "metadata": {
    "collapsed": false,
    "pycharm": {
     "name": "#%%\n"
    }
   }
  },
  {
   "cell_type": "markdown",
   "source": [
    "## Get/Create Some Data"
   ],
   "metadata": {
    "collapsed": false
   }
  },
  {
   "cell_type": "code",
   "execution_count": 2,
   "outputs": [],
   "source": [
    "from sklearn.model_selection import train_test_split\n",
    "import ck_helpers.example_data as ckdata\n",
    "\n",
    "(X, Y) = ckdata.AND(20, random_state=42)\n",
    "\n",
    "(X_train, X_test, Y_train, Y_test) = train_test_split(X, Y, train_size=0.75, random_state=42)"
   ],
   "metadata": {
    "collapsed": false,
    "pycharm": {
     "name": "#%%\n"
    }
   }
  },
  {
   "cell_type": "markdown",
   "source": [
    "## Construct The SVM\n",
    "\n",
    "NOTE: There are many parameters/hyperparameters which can be found at [https://scikit-learn.org/stable/modules/generated/sklearn.svm.SVC.html#sklearn.svm.SVC](https://scikit-learn.org/stable/modules/generated/sklearn.svm.SVC.html#sklearn.svm.SVC)"
   ],
   "metadata": {
    "collapsed": false
   }
  },
  {
   "cell_type": "code",
   "execution_count": 3,
   "outputs": [],
   "source": [
    "svm = SVC(random_state=42)"
   ],
   "metadata": {
    "collapsed": false,
    "pycharm": {
     "name": "#%%\n"
    }
   }
  },
  {
   "cell_type": "markdown",
   "source": [
    "## Train The SVM (call \"fit\")"
   ],
   "metadata": {
    "collapsed": false
   }
  },
  {
   "cell_type": "code",
   "execution_count": 4,
   "outputs": [
    {
     "data": {
      "text/plain": "SVC(random_state=42)"
     },
     "execution_count": 4,
     "metadata": {},
     "output_type": "execute_result"
    }
   ],
   "source": [
    "svm.fit(X_train, Y_train)"
   ],
   "metadata": {
    "collapsed": false,
    "pycharm": {
     "name": "#%%\n"
    }
   }
  },
  {
   "cell_type": "markdown",
   "source": [
    "## Score/Use The Decision Tree (call \"score\" and \"predict\" respectively)"
   ],
   "metadata": {
    "collapsed": false
   }
  },
  {
   "cell_type": "code",
   "execution_count": 5,
   "outputs": [
    {
     "name": "stdout",
     "output_type": "stream",
     "text": [
      "Score:  1.0\n",
      "Predict (1 && 1) =  [1]\n",
      "Predict (1 && 0) =  [0]\n",
      "Predict (0 && 1) =  [0]\n",
      "Predict (0 && 0) =  [0]\n"
     ]
    }
   ],
   "source": [
    "print( \"Score: \", svm.score(X_test, Y_test) )\n",
    "\n",
    "print( \"Predict (1 && 1) = \", svm.predict([[1, 1]]) )\n",
    "print( \"Predict (1 && 0) = \", svm.predict([[1, 0]]) )\n",
    "print( \"Predict (0 && 1) = \", svm.predict([[0, 1]]) )\n",
    "print( \"Predict (0 && 0) = \", svm.predict([[0, 0]]) )\n",
    "\n",
    "# NOTE: tree.predict takes an array of inputs, so it can be used like so\n",
    "#       tree.predict([[0,0], [0, 1], [1, 0], [1, 1]])"
   ],
   "metadata": {
    "collapsed": false,
    "pycharm": {
     "name": "#%%\n"
    }
   }
  }
 ],
 "metadata": {
  "kernelspec": {
   "display_name": "Python 3",
   "language": "python",
   "name": "python3"
  },
  "language_info": {
   "codemirror_mode": {
    "name": "ipython",
    "version": 2
   },
   "file_extension": ".py",
   "mimetype": "text/x-python",
   "name": "python",
   "nbconvert_exporter": "python",
   "pygments_lexer": "ipython2",
   "version": "2.7.6"
  }
 },
 "nbformat": 4,
 "nbformat_minor": 0
}