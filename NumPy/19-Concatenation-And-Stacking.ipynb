{
 "metadata": {
  "language_info": {
   "codemirror_mode": {
    "name": "ipython",
    "version": 3
   },
   "file_extension": ".py",
   "mimetype": "text/x-python",
   "name": "python",
   "nbconvert_exporter": "python",
   "pygments_lexer": "ipython3",
   "version": "3.8.6"
  },
  "orig_nbformat": 2,
  "kernelspec": {
   "name": "python3",
   "display_name": "Python 3",
   "language": "python"
  }
 },
 "nbformat": 4,
 "nbformat_minor": 2,
 "cells": [
  {
   "cell_type": "code",
   "execution_count": 1,
   "metadata": {},
   "outputs": [],
   "source": [
    "import numpy as np"
   ]
  },
  {
   "cell_type": "code",
   "execution_count": 5,
   "metadata": {},
   "outputs": [
    {
     "output_type": "display_data",
     "data": {
      "text/plain": "array([[ 0,  1,  2,  3,  4],\n       [ 5,  6,  7,  8,  9],\n       [10, 11, 12, 13, 14]])"
     },
     "metadata": {}
    },
    {
     "output_type": "display_data",
     "data": {
      "text/plain": "array([[15, 16, 17, 18, 19],\n       [20, 21, 22, 23, 24],\n       [25, 26, 27, 28, 29]])"
     },
     "metadata": {}
    }
   ],
   "source": [
    "mat1 = np.arange(15).reshape(3, 5)\n",
    "mat2 = np.arange(15, 30).reshape(3, 5)\n",
    "\n",
    "display( mat1 )\n",
    "display( mat2 )"
   ]
  },
  {
   "cell_type": "code",
   "execution_count": 7,
   "metadata": {},
   "outputs": [
    {
     "output_type": "execute_result",
     "data": {
      "text/plain": [
       "array([[ 0,  1,  2,  3,  4],\n",
       "       [ 5,  6,  7,  8,  9],\n",
       "       [10, 11, 12, 13, 14],\n",
       "       [15, 16, 17, 18, 19],\n",
       "       [20, 21, 22, 23, 24],\n",
       "       [25, 26, 27, 28, 29]])"
      ]
     },
     "metadata": {},
     "execution_count": 7
    }
   ],
   "source": [
    "# np.concatenate can be used to concatenate\n",
    "# multiple NDArrays together.\n",
    "\n",
    "np.concatenate((mat1, mat2))"
   ]
  },
  {
   "cell_type": "code",
   "execution_count": 8,
   "metadata": {},
   "outputs": [
    {
     "output_type": "execute_result",
     "data": {
      "text/plain": [
       "array([[ 0,  1,  2,  3,  4, 15, 16, 17, 18, 19],\n",
       "       [ 5,  6,  7,  8,  9, 20, 21, 22, 23, 24],\n",
       "       [10, 11, 12, 13, 14, 25, 26, 27, 28, 29]])"
      ]
     },
     "metadata": {},
     "execution_count": 8
    }
   ],
   "source": [
    "# An axis argument can be provided\n",
    "# that specifies along which axis\n",
    "# the concatenation should be performed.\n",
    "# axis is defaulted to 0\n",
    "\n",
    "np.concatenate((mat1, mat2), axis=1)"
   ]
  },
  {
   "cell_type": "code",
   "execution_count": 14,
   "metadata": {},
   "outputs": [
    {
     "output_type": "display_data",
     "data": {
      "text/plain": "array([[ 0,  1,  2,  3,  4],\n       [ 5,  6,  7,  8,  9],\n       [10, 11, 12, 13, 14],\n       [15, 16, 17, 18, 19],\n       [20, 21, 22, 23, 24],\n       [25, 26, 27, 28, 29]])"
     },
     "metadata": {}
    },
    {
     "output_type": "display_data",
     "data": {
      "text/plain": "array([[ 0,  1,  2,  3,  4, 15, 16, 17, 18, 19],\n       [ 5,  6,  7,  8,  9, 20, 21, 22, 23, 24],\n       [10, 11, 12, 13, 14, 25, 26, 27, 28, 29]])"
     },
     "metadata": {}
    }
   ],
   "source": [
    "# Convenience functions vstack and hstack\n",
    "# are provided that potentially make\n",
    "# concatenation a little more intuitive\n",
    "\n",
    "display( np.vstack((mat1, mat2)) )\n",
    "display( np.hstack((mat1, mat2)) )"
   ]
  },
  {
   "cell_type": "code",
   "execution_count": 18,
   "metadata": {},
   "outputs": [
    {
     "output_type": "execute_result",
     "data": {
      "text/plain": [
       "array([[[ 0,  1,  2,  3,  4],\n",
       "        [ 5,  6,  7,  8,  9],\n",
       "        [10, 11, 12, 13, 14]],\n",
       "\n",
       "       [[15, 16, 17, 18, 19],\n",
       "        [20, 21, 22, 23, 24],\n",
       "        [25, 26, 27, 28, 29]]])"
      ]
     },
     "metadata": {},
     "execution_count": 18
    }
   ],
   "source": [
    "# The np.stack function takes a collection\n",
    "# of NDArrays and returns a new NDArray\n",
    "# COMPRISED OF THE SUPPLIED NDARRAYS\n",
    "# NOT ELEMENTS OF THE SUPPLIED NDARRAYS\n",
    "\n",
    "np.stack((mat1, mat2), axis=0)"
   ]
  },
  {
   "cell_type": "code",
   "execution_count": null,
   "metadata": {},
   "outputs": [],
   "source": []
  }
 ]
}