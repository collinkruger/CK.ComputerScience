{
 "metadata": {
  "language_info": {
   "codemirror_mode": {
    "name": "ipython",
    "version": 3
   },
   "file_extension": ".py",
   "mimetype": "text/x-python",
   "name": "python",
   "nbconvert_exporter": "python",
   "pygments_lexer": "ipython3",
   "version": "3.8.6"
  },
  "orig_nbformat": 2,
  "kernelspec": {
   "name": "python3",
   "display_name": "Python 3.8.6 64-bit",
   "metadata": {
    "interpreter": {
     "hash": "31f2aee4e71d21fbe5cf8b01ff0e069b9275f58929596ceb00d14d90e3e16cd6"
    }
   }
  }
 },
 "nbformat": 4,
 "nbformat_minor": 2,
 "cells": [
  {
   "cell_type": "code",
   "execution_count": 2,
   "metadata": {},
   "outputs": [],
   "source": [
    "import numpy as np"
   ]
  },
  {
   "cell_type": "code",
   "execution_count": 3,
   "metadata": {},
   "outputs": [
    {
     "output_type": "execute_result",
     "data": {
      "text/plain": [
       "array([ 1.,  2.,  3.,  4.,  5.,  6.,  7.,  8.,  9., 10.,  9.,  8.,  7.,\n",
       "        6.,  5.,  4.,  3.,  2.,  1.])"
      ]
     },
     "metadata": {},
     "execution_count": 3
    }
   ],
   "source": [
    "# Can pull in csv, tsv, etc. data using \"genfromtxt\"\n",
    "numbers = np.genfromtxt(\"data/some_numbers.csv\", delimiter=\",\", skip_header=True)\n",
    "numbers"
   ]
  },
  {
   "cell_type": "code",
   "execution_count": 5,
   "metadata": {},
   "outputs": [
    {
     "output_type": "stream",
     "name": "stdout",
     "text": [
      "Mean:  5.2631578947368425\nMedian:  5.0\nStandard Deviation:  2.7499685216027645\nVariance:  7.562326869806095\n"
     ]
    }
   ],
   "source": [
    "# There are many statistical functions can be useful (many more than demonstrated here)\n",
    "# See: https://numpy.org/doc/stable/reference/routines.statistics.html\n",
    "\n",
    "print(\"Mean: \", np.mean(numbers))\n",
    "print(\"Median: \", np.median(numbers))\n",
    "print(\"Standard Deviation: \", np.std(numbers))\n",
    "print(\"Variance: \", np.var(numbers))"
   ]
  },
  {
   "cell_type": "code",
   "execution_count": null,
   "metadata": {},
   "outputs": [],
   "source": []
  }
 ]
}