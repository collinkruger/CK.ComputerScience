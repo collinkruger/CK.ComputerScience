{
 "metadata": {
  "language_info": {
   "codemirror_mode": {
    "name": "ipython",
    "version": 3
   },
   "file_extension": ".py",
   "mimetype": "text/x-python",
   "name": "python",
   "nbconvert_exporter": "python",
   "pygments_lexer": "ipython3",
   "version": "3.8.6"
  },
  "orig_nbformat": 2,
  "kernelspec": {
   "name": "python3",
   "display_name": "Python 3.8.6 64-bit",
   "metadata": {
    "interpreter": {
     "hash": "31f2aee4e71d21fbe5cf8b01ff0e069b9275f58929596ceb00d14d90e3e16cd6"
    }
   }
  }
 },
 "nbformat": 4,
 "nbformat_minor": 2,
 "cells": [
  {
   "cell_type": "code",
   "execution_count": 1,
   "metadata": {},
   "outputs": [],
   "source": [
    "import numpy as np"
   ]
  },
  {
   "cell_type": "code",
   "execution_count": 2,
   "metadata": {},
   "outputs": [
    {
     "output_type": "execute_result",
     "data": {
      "text/plain": [
       "array(['0', '1', '2', '3', '4', '5', '6', '7', '8', '9'], dtype='<U21')"
      ]
     },
     "metadata": {},
     "execution_count": 2
    }
   ],
   "source": [
    "str_vec = np.arange(10).astype(str)\n",
    "str_vec"
   ]
  },
  {
   "cell_type": "code",
   "execution_count": 3,
   "metadata": {},
   "outputs": [
    {
     "output_type": "stream",
     "name": "stdout",
     "text": [
      "<class 'numpy.ndarray'>\n"
     ]
    },
    {
     "output_type": "display_data",
     "data": {
      "text/plain": "array(['0', '1', '2', '3', '4', '5', '6', '7', '8', '9'], dtype='<U21')"
     },
     "metadata": {}
    }
   ],
   "source": [
    "# \"view\" create a read-write view over an ndarray.\n",
    "# Maybe counter-intuitively, the returned view is itself an ndarray.\n",
    "# This goes to show that ndarrays are not actual blocks of memory (unlike arrays)\n",
    "# but rather a higher level abstract representing N-dimensional arrays\n",
    "\n",
    "view = str_vec.view()\n",
    "\n",
    "print(type(view))\n",
    "\n",
    "display(view)"
   ]
  },
  {
   "cell_type": "code",
   "execution_count": 8,
   "metadata": {},
   "outputs": [
    {
     "output_type": "execute_result",
     "data": {
      "text/plain": [
       "True"
      ]
     },
     "metadata": {},
     "execution_count": 8
    }
   ],
   "source": [
    "# The \"base\" attribute allows up to see on what ndarray the view is built\n",
    "\n",
    "view.base is str_vec"
   ]
  },
  {
   "cell_type": "code",
   "execution_count": 5,
   "metadata": {},
   "outputs": [
    {
     "output_type": "display_data",
     "data": {
      "text/plain": "139634991566736"
     },
     "metadata": {}
    },
    {
     "output_type": "display_data",
     "data": {
      "text/plain": "139634991566736"
     },
     "metadata": {}
    }
   ],
   "source": [
    "# To further show that a view is \"shallow\" in nature,\n",
    "# we can examine constituent elements of a source ndarray\n",
    "# and a view ndarray and see that their memory addresses\n",
    "# are the same\n",
    "\n",
    "display( id(str_vec[0]) )\n",
    "display( id(view[0]) )"
   ]
  },
  {
   "cell_type": "code",
   "execution_count": 6,
   "metadata": {},
   "outputs": [
    {
     "output_type": "display_data",
     "data": {
      "text/plain": "array(['42', '1', '2', '3', '4', '5', '6', '7', '8', '9'], dtype='<U21')"
     },
     "metadata": {}
    },
    {
     "output_type": "display_data",
     "data": {
      "text/plain": "array(['42', '1', '2', '3', '4', '5', '6', '7', '8', '9'], dtype='<U21')"
     },
     "metadata": {}
    },
    {
     "output_type": "display_data",
     "data": {
      "text/plain": "139635481190192"
     },
     "metadata": {}
    },
    {
     "output_type": "display_data",
     "data": {
      "text/plain": "139635481190192"
     },
     "metadata": {}
    }
   ],
   "source": [
    "# As stated a few cells above, views are read-write\n",
    "# to the underlying source ndarray, as demonstrated here.\n",
    "\n",
    "# Write to a cell in the view\n",
    "view[0] = \"42\"\n",
    "\n",
    "# Observe that the view and original ndarray contain the same data\n",
    "display( view )\n",
    "display( str_vec)\n",
    "\n",
    "display( id(view[0][0]) )\n",
    "display( id(str_vec[0][0]) )"
   ]
  },
  {
   "cell_type": "code",
   "execution_count": 7,
   "metadata": {},
   "outputs": [
    {
     "output_type": "display_data",
     "data": {
      "text/plain": "array([['42', '1', '2', '3', '4'],\n       ['5', '6', '7', '8', '9']], dtype='<U21')"
     },
     "metadata": {}
    },
    {
     "output_type": "display_data",
     "data": {
      "text/plain": "array(['42', '1', '2', '3', '4', '5', '6', '7', '8', '9'], dtype='<U21')"
     },
     "metadata": {}
    },
    {
     "output_type": "display_data",
     "data": {
      "text/plain": "array([['42', '1', '2', '3', '4'],\n       ['5', '6', '7', '8', '99']], dtype='<U21')"
     },
     "metadata": {}
    },
    {
     "output_type": "display_data",
     "data": {
      "text/plain": "array(['42', '1', '2', '3', '4', '5', '6', '7', '8', '99'], dtype='<U21')"
     },
     "metadata": {}
    }
   ],
   "source": [
    "# When reshaping a view, the view takes on the new designated shape,\n",
    "# and the source ndarray keeps it's original shape.\n",
    "\n",
    "reshaped_view = view.reshape(2, 5)\n",
    "\n",
    "display(reshaped_view)\n",
    "display(str_vec)\n",
    "\n",
    "# and writing down to the source ndarray behaves as expected\n",
    "\n",
    "reshaped_view[1, 4] = \"99\"\n",
    "\n",
    "display(reshaped_view)\n",
    "display(str_vec)"
   ]
  },
  {
   "cell_type": "code",
   "execution_count": null,
   "metadata": {},
   "outputs": [],
   "source": []
  }
 ]
}