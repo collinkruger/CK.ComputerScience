{
 "metadata": {
  "language_info": {
   "codemirror_mode": {
    "name": "ipython",
    "version": 3
   },
   "file_extension": ".py",
   "mimetype": "text/x-python",
   "name": "python",
   "nbconvert_exporter": "python",
   "pygments_lexer": "ipython3",
   "version": "3.8.6"
  },
  "orig_nbformat": 2,
  "kernelspec": {
   "name": "python3",
   "display_name": "Python 3",
   "language": "python"
  }
 },
 "nbformat": 4,
 "nbformat_minor": 2,
 "cells": [
  {
   "cell_type": "code",
   "execution_count": 1,
   "metadata": {},
   "outputs": [],
   "source": [
    "import numpy as np"
   ]
  },
  {
   "cell_type": "code",
   "execution_count": 10,
   "metadata": {},
   "outputs": [
    {
     "output_type": "execute_result",
     "data": {
      "text/plain": [
       "array([ 2,  5,  9, 20])"
      ]
     },
     "metadata": {},
     "execution_count": 10
    }
   ],
   "source": [
    "# Numpy can create vectorized versions\n",
    "# of functions operating over scalars.\n",
    "\n",
    "\n",
    "# 1. Write a function that operates on scalar values\n",
    "\n",
    "def add_and_round(a, b):\n",
    "    return round(a + b)\n",
    "\n",
    "\n",
    "# 2. Use numpy to create a vectorized version\n",
    "\n",
    "vectorized_add_and_round = np.vectorize(add_and_round)\n",
    "\n",
    "\n",
    "# 3. Use the vectorized function\n",
    "\n",
    "vec1 = [1.1, 2.4, 4.7, 9.9]\n",
    "vec2 = [1.1, 2.4, 4.7, 9.9]\n",
    "\n",
    "vectorized_add_and_round(vec1, vec2)"
   ]
  }
 ]
}