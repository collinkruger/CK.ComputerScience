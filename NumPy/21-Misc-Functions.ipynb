{
 "metadata": {
  "orig_nbformat": 2,
  "kernelspec": {
   "name": "python3",
   "display_name": "Python 3",
   "language": "python"
  }
 },
 "nbformat": 4,
 "nbformat_minor": 2,
 "cells": [
  {
   "cell_type": "code",
   "execution_count": 1,
   "metadata": {},
   "outputs": [],
   "source": [
    "import numpy as np"
   ]
  },
  {
   "cell_type": "code",
   "execution_count": 2,
   "metadata": {},
   "outputs": [
    {
     "output_type": "execute_result",
     "data": {
      "text/plain": [
       "array([50822.23298708, 45563.50063163, 43283.45607685, 42377.24592646,\n",
       "       52974.94802177, 50553.6968508 , 49351.64928835, 65461.62832277,\n",
       "       42003.26091085, 66585.17761174, 61029.24659511, 41237.29173042,\n",
       "       46535.60325725, 52886.01932314, 52204.90827513, 41119.58992564,\n",
       "       43247.76301669, 54116.490297  , 41033.64425082, 51889.37238109,\n",
       "       43142.20083007, 38039.49959444, 58409.3835612 , 34206.07743143,\n",
       "       66232.03869163, 51778.15873708, 54505.72030554, 42024.67796949,\n",
       "       71398.30669617, 57262.79951891, 25505.1347953 , 46897.03942677,\n",
       "       50421.24484205, 57777.4586061 , 58235.45126354, 67904.37131903,\n",
       "       47176.02119385, 62570.70460471, 53525.93214158, 41731.21504309,\n",
       "       51178.64323073, 69494.09376899, 64597.48121383, 44259.82769825,\n",
       "       40624.22164502, 63406.4094105 , 45698.44734719, 38134.82182725,\n",
       "       46042.82140675, 42405.11856395, 36844.96559493, 50943.54732253,\n",
       "       36888.27815682, 49527.31381228, 39622.8674175 , 47316.69898733,\n",
       "       29844.61486008, 29031.0079278 , 61351.33383672, 50811.74204092,\n",
       "       47188.16814947, 57759.42080417, 36989.46128084, 47447.78377047,\n",
       "       37161.85635018, 52150.36472136, 51771.83113501, 41652.29575677,\n",
       "       41430.75561112, 52207.51002004, 61935.86779542, 47279.91704754,\n",
       "       39915.4901323 , 48653.57844506, 49607.527154  , 50709.68632782,\n",
       "       58408.27959786, 31252.91673583, 46399.09908308, 35429.88862842,\n",
       "       48582.97556893, 66464.01113954, 39897.32860466, 41584.89966886,\n",
       "       56719.51584069, 62139.33098054, 34320.22867583, 50764.69335379,\n",
       "       53004.24671354, 62874.91234061, 48138.80425066, 51317.96842946,\n",
       "       52977.65835572, 58475.06691775, 71545.26265346, 56919.63089447,\n",
       "       52823.61741705, 44108.41184682, 39963.01730669, 47466.4871907 ])"
      ]
     },
     "metadata": {},
     "execution_count": 2
    }
   ],
   "source": [
    "data = np.random.normal(50000, 10000, 100)\n",
    "data"
   ]
  },
  {
   "source": [
    "# Numpy has many helpful functions that\n",
    "# can help with things like data science\n",
    "# and data exploration.\n",
    "\n",
    "# The following are some of these functions."
   ],
   "cell_type": "code",
   "metadata": {},
   "execution_count": 3,
   "outputs": []
  },
  {
   "cell_type": "code",
   "execution_count": 4,
   "metadata": {},
   "outputs": [
    {
     "output_type": "display_data",
     "data": {
      "text/plain": "'Max Value Index'"
     },
     "metadata": {}
    },
    {
     "output_type": "display_data",
     "data": {
      "text/plain": "94"
     },
     "metadata": {}
    },
    {
     "output_type": "display_data",
     "data": {
      "text/plain": "'Max Value'"
     },
     "metadata": {}
    },
    {
     "output_type": "display_data",
     "data": {
      "text/plain": "71545.26265345576"
     },
     "metadata": {}
    }
   ],
   "source": [
    "# argmax take an NDArray and returns\n",
    "# the INDEX of the maximum value in\n",
    "# the NDArray\n",
    "\n",
    "max_value_index = np.argmax(data)\n",
    "\n",
    "display(\"Max Value Index\",\n",
    "        max_value_index,\n",
    "        \"Max Value\",\n",
    "        data[max_value_index])"
   ]
  },
  {
   "cell_type": "code",
   "execution_count": 5,
   "metadata": {},
   "outputs": [
    {
     "output_type": "display_data",
     "data": {
      "text/plain": "'Min Value Index'"
     },
     "metadata": {}
    },
    {
     "output_type": "display_data",
     "data": {
      "text/plain": "30"
     },
     "metadata": {}
    },
    {
     "output_type": "display_data",
     "data": {
      "text/plain": "'Min Value'"
     },
     "metadata": {}
    },
    {
     "output_type": "display_data",
     "data": {
      "text/plain": "25505.13479530024"
     },
     "metadata": {}
    }
   ],
   "source": [
    "# argmin is similar to argmax except\n",
    "# it returns the INDEX of the minimum\n",
    "# value in the NDArray\n",
    "\n",
    "min_value_index = np.argmin(data)\n",
    "\n",
    "display(\"Min Value Index\",\n",
    "        min_value_index,\n",
    "        \"Min Value\",\n",
    "        data[min_value_index])"
   ]
  },
  {
   "cell_type": "code",
   "execution_count": 6,
   "metadata": {},
   "outputs": [
    {
     "output_type": "execute_result",
     "data": {
      "text/plain": [
       "array([30, 57, 56, 77, 23, 86, 79, 50, 52, 62, 64, 21, 47, 54, 82, 72, 98,\n",
       "       44, 18, 15, 11, 68, 83, 67, 39,  8, 27,  3, 49, 20, 16,  2, 97, 43,\n",
       "        1, 46, 48, 78, 12, 31, 36, 60, 71, 55, 63, 99, 90, 80, 73,  6, 53,\n",
       "       74, 32,  5, 75, 87, 59,  0, 51, 40, 91, 66, 25, 19, 65, 14, 69, 96,\n",
       "       13,  4, 92, 88, 38, 17, 26, 84, 95, 29, 61, 33, 34, 76, 22, 93, 10,\n",
       "       58, 70, 85, 37, 89, 45, 42,  7, 24, 81,  9, 35, 41, 28, 94])"
      ]
     },
     "metadata": {},
     "execution_count": 6
    }
   ],
   "source": [
    "# Continueing the trend of returning\n",
    "# indices, the argsort function takes\n",
    "# an NDArray and returns a new NDArray\n",
    "# that contains the indices of sorted \n",
    "# values in the source NDArray.\n",
    "\n",
    "np.argsort(data)"
   ]
  },
  {
   "cell_type": "code",
   "execution_count": 7,
   "metadata": {},
   "outputs": [
    {
     "output_type": "execute_result",
     "data": {
      "text/plain": [
       "array([30, 57, 56, 77, 23, 86, 79, 50, 52, 62, 64, 21, 47, 54, 82, 72, 98,\n",
       "       44, 18, 15, 11, 68, 83, 67, 39,  8, 27,  3, 49, 20, 16,  2, 97, 43,\n",
       "        1, 46, 48, 78, 12, 31, 36, 60, 71, 55, 63, 99, 90, 80, 73,  6, 53,\n",
       "       74, 32,  5, 75, 87, 59,  0, 51, 40, 91, 66, 25, 19, 65, 14, 69, 96,\n",
       "       13,  4, 92, 88, 38, 17, 26, 84, 95, 29, 61, 33, 34, 76, 22, 93, 10,\n",
       "       58, 70, 85, 37, 89, 45, 42,  7, 24, 81,  9, 35, 41, 28, 94])"
      ]
     },
     "metadata": {},
     "execution_count": 7
    }
   ],
   "source": [
    "# argsort accepts a \"kind\" argument\n",
    "# that lets you supply the type of\n",
    "# sorting algorithm to use.\n",
    "# SEE: https://numpy.org/doc/stable/reference/generated/numpy.argsort.html\n",
    "\n",
    "np.argsort(data, kind=\"mergesort\")"
   ]
  },
  {
   "cell_type": "code",
   "execution_count": 8,
   "metadata": {},
   "outputs": [
    {
     "output_type": "display_data",
     "data": {
      "text/plain": "(array([ 7,  9, 24, 28, 35, 41, 81, 94]),)"
     },
     "metadata": {}
    },
    {
     "output_type": "execute_result",
     "data": {
      "text/plain": [
       "array([65461.62832277, 66585.17761174, 66232.03869163, 71398.30669617,\n",
       "       67904.37131903, 69494.09376899, 66464.01113954, 71545.26265346])"
      ]
     },
     "metadata": {},
     "execution_count": 8
    }
   ],
   "source": [
    "# The where function takes a boolean NDArray\n",
    "# (in this case created by a boolean operation)\n",
    "# and returns the indices of the True values.\n",
    "# This can be thought of as returning the indices\n",
    "# matching a condition, as demonstrated below.\n",
    "\n",
    "greater_than_65k = np.where(data > 65000)\n",
    "\n",
    "display( greater_than_65k )\n",
    "\n",
    "\n",
    "# Indexing into the original array enables returning\n",
    "# matching elements.\n",
    "\n",
    "data[greater_than_65k]"
   ]
  },
  {
   "cell_type": "code",
   "execution_count": 9,
   "metadata": {},
   "outputs": [
    {
     "output_type": "display_data",
     "data": {
      "text/plain": "(array([ 7,  9, 24, 28, 35, 41, 81, 94]),)"
     },
     "metadata": {}
    },
    {
     "output_type": "display_data",
     "data": {
      "text/plain": "array([10000.        , 10000.        , 10000.        , 10000.        ,\n       10000.        , 10000.        , 10000.        , 65461.62832277,\n       10000.        , 66585.17761174, 10000.        , 10000.        ,\n       10000.        , 10000.        , 10000.        , 10000.        ,\n       10000.        , 10000.        , 10000.        , 10000.        ,\n       10000.        , 10000.        , 10000.        , 10000.        ,\n       66232.03869163, 10000.        , 10000.        , 10000.        ,\n       71398.30669617, 10000.        , 10000.        , 10000.        ,\n       10000.        , 10000.        , 10000.        , 67904.37131903,\n       10000.        , 10000.        , 10000.        , 10000.        ,\n       10000.        , 69494.09376899, 10000.        , 10000.        ,\n       10000.        , 10000.        , 10000.        , 10000.        ,\n       10000.        , 10000.        , 10000.        , 10000.        ,\n       10000.        , 10000.        , 10000.        , 10000.        ,\n       10000.        , 10000.        , 10000.        , 10000.        ,\n       10000.        , 10000.        , 10000.        , 10000.        ,\n       10000.        , 10000.        , 10000.        , 10000.        ,\n       10000.        , 10000.        , 10000.        , 10000.        ,\n       10000.        , 10000.        , 10000.        , 10000.        ,\n       10000.        , 10000.        , 10000.        , 10000.        ,\n       10000.        , 66464.01113954, 10000.        , 10000.        ,\n       10000.        , 10000.        , 10000.        , 10000.        ,\n       10000.        , 10000.        , 10000.        , 10000.        ,\n       10000.        , 10000.        , 71545.26265346, 10000.        ,\n       10000.        , 10000.        , 10000.        , 10000.        ])"
     },
     "metadata": {}
    }
   ],
   "source": [
    "# The where function can also be provided\n",
    "# two extra arguments that enable the where\n",
    "# function to operate as an applied if-else\n",
    "# function.\n",
    "\n",
    "display( np.where(data > 65000) )\n",
    "display( np.where(data > 65000, data, 10000) )"
   ]
  },
  {
   "cell_type": "code",
   "execution_count": 10,
   "metadata": {},
   "outputs": [
    {
     "output_type": "execute_result",
     "data": {
      "text/plain": [
       "array([65461.62832277, 66585.17761174, 66232.03869163, 71398.30669617,\n",
       "       67904.37131903, 69494.09376899, 66464.01113954, 71545.26265346])"
      ]
     },
     "metadata": {},
     "execution_count": 10
    }
   ],
   "source": [
    "# Contrary to where which returns an NDArray\n",
    "# of indices, the extract function returns\n",
    "# the actual elements.\n",
    "\n",
    "np.extract(data > 65000, data)"
   ]
  }
 ]
}