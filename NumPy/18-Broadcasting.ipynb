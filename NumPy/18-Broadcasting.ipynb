{
 "metadata": {
  "orig_nbformat": 2,
  "kernelspec": {
   "name": "python3",
   "display_name": "Python 3",
   "language": "python"
  }
 },
 "nbformat": 4,
 "nbformat_minor": 2,
 "cells": [
  {
   "cell_type": "code",
   "execution_count": 2,
   "metadata": {},
   "outputs": [],
   "source": [
    "import numpy as np"
   ]
  },
  {
   "cell_type": "code",
   "execution_count": 6,
   "metadata": {},
   "outputs": [],
   "source": [
    "# \"Broadcasting\" is numpy's word for\n",
    "# how it treats different NDArray/Scalar\n",
    "# shapes during arithemetic operations.\n",
    "# See: https://numpy.org/devdocs/user/theory.broadcasting.html\n",
    "# See: https://numpy.org/doc/stable/user/basics.broadcasting.html"
   ]
  },
  {
   "cell_type": "code",
   "execution_count": 7,
   "metadata": {},
   "outputs": [
    {
     "output_type": "display_data",
     "data": {
      "text/plain": "array([0, 2, 4, 6, 8])"
     },
     "metadata": {}
    },
    {
     "output_type": "display_data",
     "data": {
      "text/plain": "array([[ 0,  2,  4,  6,  8],\n       [10, 12, 14, 16, 18],\n       [20, 22, 24, 26, 28],\n       [30, 32, 34, 36, 38],\n       [40, 42, 44, 46, 48]])"
     },
     "metadata": {}
    },
    {
     "output_type": "display_data",
     "data": {
      "text/plain": "array([[[  0,   2,   4,   6,   8],\n        [ 10,  12,  14,  16,  18],\n        [ 20,  22,  24,  26,  28],\n        [ 30,  32,  34,  36,  38],\n        [ 40,  42,  44,  46,  48]],\n\n       [[ 50,  52,  54,  56,  58],\n        [ 60,  62,  64,  66,  68],\n        [ 70,  72,  74,  76,  78],\n        [ 80,  82,  84,  86,  88],\n        [ 90,  92,  94,  96,  98]],\n\n       [[100, 102, 104, 106, 108],\n        [110, 112, 114, 116, 118],\n        [120, 122, 124, 126, 128],\n        [130, 132, 134, 136, 138],\n        [140, 142, 144, 146, 148]],\n\n       [[150, 152, 154, 156, 158],\n        [160, 162, 164, 166, 168],\n        [170, 172, 174, 176, 178],\n        [180, 182, 184, 186, 188],\n        [190, 192, 194, 196, 198]],\n\n       [[200, 202, 204, 206, 208],\n        [210, 212, 214, 216, 218],\n        [220, 222, 224, 226, 228],\n        [230, 232, 234, 236, 238],\n        [240, 242, 244, 246, 248]]])"
     },
     "metadata": {}
    }
   ],
   "source": [
    "# When performing scalar arithmetic against an NDarray,\n",
    "# we basically have function application over a collection.\n",
    "# AKA given a collection, apply a function, and get a\n",
    "# collection of the same shape back but with the function\n",
    "# applied to each element.\n",
    "\n",
    "vec = np.arange(5)\n",
    "mat = np.arange(25).reshape(5, 5)\n",
    "mat2 = np.arange(125).reshape(5, 5, 5)\n",
    "\n",
    "display( vec * 2 )\n",
    "display( mat * 2 )\n",
    "display( mat2 * 2 )"
   ]
  },
  {
   "cell_type": "code",
   "execution_count": 5,
   "metadata": {},
   "outputs": [
    {
     "output_type": "display_data",
     "data": {
      "text/plain": "array([[ 0,  1,  2],\n       [ 3,  4,  5],\n       [ 6,  7,  8],\n       [ 9, 10, 11],\n       [12, 13, 14]])"
     },
     "metadata": {}
    },
    {
     "output_type": "display_data",
     "data": {
      "text/plain": "array([[0],\n       [1],\n       [2],\n       [3],\n       [4]])"
     },
     "metadata": {}
    },
    {
     "output_type": "display_data",
     "data": {
      "text/plain": "array([0, 1, 2])"
     },
     "metadata": {}
    },
    {
     "output_type": "display_data",
     "data": {
      "text/plain": "array([[ 0,  1,  2],\n       [ 4,  5,  6],\n       [ 8,  9, 10],\n       [12, 13, 14],\n       [16, 17, 18]])"
     },
     "metadata": {}
    },
    {
     "output_type": "display_data",
     "data": {
      "text/plain": "array([[ 0,  2,  4],\n       [ 3,  5,  7],\n       [ 6,  8, 10],\n       [ 9, 11, 13],\n       [12, 14, 16]])"
     },
     "metadata": {}
    }
   ],
   "source": [
    "# Given two NDArrays, if the second NDArray has\n",
    "# the same number of rows and one column it can\n",
    "# be applied columnwise per element, or if the\n",
    "# second NDArray has the same number of columns\n",
    "# and one row, it can be applied rowwise per\n",
    "# element\n",
    "\n",
    "mat = np.arange(15).reshape(5, 3)\n",
    "\n",
    "vec1 = np.arange(5).reshape(5, 1)\n",
    "\n",
    "vec2 = np.arange(3)\n",
    "\n",
    "display( mat )\n",
    "display( vec1 )\n",
    "display( vec2 )\n",
    "\n",
    "display( mat + vec1 )\n",
    "display( mat + vec2 )"
   ]
  },
  {
   "cell_type": "code",
   "execution_count": 3,
   "metadata": {},
   "outputs": [
    {
     "output_type": "display_data",
     "data": {
      "text/plain": "array([0, 2, 4, 6, 8])"
     },
     "metadata": {}
    },
    {
     "output_type": "display_data",
     "data": {
      "text/plain": "array([[ 0,  2,  4,  6,  8],\n       [10, 12, 14, 16, 18],\n       [20, 22, 24, 26, 28],\n       [30, 32, 34, 36, 38],\n       [40, 42, 44, 46, 48]])"
     },
     "metadata": {}
    }
   ],
   "source": [
    "# Given two NDArrays of the same shape,\n",
    "# arithmetic operations are applied elementwise.\n",
    "\n",
    "vec1 = np.arange(5)\n",
    "vec2 = np.arange(5)\n",
    "\n",
    "mat1 = np.arange(25).reshape(5, 5)\n",
    "mat2 = np.arange(25).reshape(5, 5)\n",
    "\n",
    "display( vec1 + vec2 )\n",
    "display( mat1 + mat2 )"
   ]
  },
  {
   "cell_type": "code",
   "execution_count": null,
   "metadata": {},
   "outputs": [],
   "source": [
    "# These concepts generalize out to higher dimensional arrays.\n",
    "\n",
    "# Boardcasting is designed to be memory efficient instead of allocating c-style arrays.\n",
    "\n",
    "# Also, broadcasting is designed to efficient, reducing marshaling yet implementing \n",
    "# the raw arithmetic in c.\n",
    "\n",
    "\n",
    "# SEE: https://numpy.org/devdocs/user/theory.broadcasting.html\n",
    "# SEE: https://numpy.org/doc/stable/user/basics.broadcasting.html\n",
    "# Broadcasting is designed to memory"
   ]
  }
 ]
}