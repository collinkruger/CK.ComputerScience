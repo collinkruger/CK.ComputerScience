{
 "metadata": {
  "language_info": {
   "codemirror_mode": {
    "name": "ipython",
    "version": 3
   },
   "file_extension": ".py",
   "mimetype": "text/x-python",
   "name": "python",
   "nbconvert_exporter": "python",
   "pygments_lexer": "ipython3",
   "version": "3.8.6"
  },
  "orig_nbformat": 2,
  "kernelspec": {
   "name": "python3",
   "display_name": "Python 3.8.6 64-bit",
   "metadata": {
    "interpreter": {
     "hash": "31f2aee4e71d21fbe5cf8b01ff0e069b9275f58929596ceb00d14d90e3e16cd6"
    }
   }
  }
 },
 "nbformat": 4,
 "nbformat_minor": 2,
 "cells": [
  {
   "cell_type": "code",
   "execution_count": 1,
   "metadata": {},
   "outputs": [],
   "source": [
    "import numpy as np"
   ]
  },
  {
   "cell_type": "code",
   "execution_count": 2,
   "metadata": {},
   "outputs": [
    {
     "output_type": "stream",
     "name": "stdout",
     "text": [
      "vec\n [ 0 10 20 30 40 50 60 70 80] \n\nmat\n [[ 0 10 20]\n [30 40 50]\n [60 70 80]]\n"
     ]
    }
   ],
   "source": [
    "vec = np.arange(9) * 10\n",
    "mat = vec.reshape((3, 3))\n",
    "\n",
    "print(\"vec\\n\",\n",
    "      vec,\n",
    "      \"\\n\\nmat\\n\",\n",
    "      mat)"
   ]
  },
  {
   "cell_type": "code",
   "execution_count": 5,
   "metadata": {},
   "outputs": [
    {
     "output_type": "stream",
     "name": "stdout",
     "text": [
      "is real: vec\n [ True  True  True  True  True  True  True  True  True] \n\nis real: mat\n [[ True  True  True]\n [ True  True  True]\n [ True  True  True]] \n\nsin: vec\n [ 0.         -0.54402111  0.91294525 -0.98803162  0.74511316 -0.26237485\n -0.30481062  0.77389068 -0.99388865] \n\nsin: mat\n [[ 0.         -0.54402111  0.91294525]\n [-0.98803162  0.74511316 -0.26237485]\n [-0.30481062  0.77389068 -0.99388865]] \n\nmean: vec\n 40.0 \n\nmedian: vec\n 40.0\n"
     ]
    }
   ],
   "source": [
    "# Many function in numpy are \"universal\", meaning they operate on scalars, vectors, and matrices\n",
    "# See: https://numpy.org/doc/stable/reference/routines.logic.html\n",
    "# See: https://numpy.org/doc/stable/reference/routines.math.html\n",
    "# There are probably other universal functions I don't have referenced above\n",
    "\n",
    "print(\"is real: vec\\n\",\n",
    "      np.isreal(vec),\n",
    "      \"\\n\\nis real: mat\\n\",\n",
    "      np.isreal(mat),\n",
    "      \"\\n\\nsin: vec\\n\",\n",
    "      np.sin(vec),\n",
    "      \"\\n\\nsin: mat\\n\",\n",
    "      np.sin(mat),\n",
    "      \"\\n\\nmean: vec\\n\",\n",
    "      np.mean(vec),\n",
    "      \"\\n\\nmedian: vec\\n\",\n",
    "      np.median(vec))"
   ]
  },
  {
   "cell_type": "code",
   "execution_count": null,
   "metadata": {},
   "outputs": [],
   "source": []
  }
 ]
}