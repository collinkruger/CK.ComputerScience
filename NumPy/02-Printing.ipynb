{
 "metadata": {
  "language_info": {
   "codemirror_mode": {
    "name": "ipython",
    "version": 3
   },
   "file_extension": ".py",
   "mimetype": "text/x-python",
   "name": "python",
   "nbconvert_exporter": "python",
   "pygments_lexer": "ipython3",
   "version": "3.8.6"
  },
  "orig_nbformat": 2,
  "kernelspec": {
   "name": "python386jvsc74a57bd0916dbcbb3f70747c44a77c7bcd40155683ae19c65e1c03b4aa3499c5328201f1",
   "display_name": "Python 3.8.6 64-bit"
  },
  "metadata": {
   "interpreter": {
    "hash": "916dbcbb3f70747c44a77c7bcd40155683ae19c65e1c03b4aa3499c5328201f1"
   }
  }
 },
 "nbformat": 4,
 "nbformat_minor": 2,
 "cells": [
  {
   "cell_type": "code",
   "execution_count": 1,
   "metadata": {},
   "outputs": [],
   "source": [
    "import numpy as np"
   ]
  },
  {
   "cell_type": "code",
   "execution_count": 2,
   "metadata": {},
   "outputs": [
    {
     "output_type": "display_data",
     "data": {
      "text/plain": "array([0, 1, 2, 3, 4])"
     },
     "metadata": {}
    },
    {
     "output_type": "stream",
     "name": "stdout",
     "text": [
      "[0 1 2 3 4]\n"
     ]
    }
   ],
   "source": [
    "# display vs print\n",
    "\n",
    "an_array = np.arange(5)\n",
    "\n",
    "display(an_array)\n",
    "print(an_array)"
   ]
  },
  {
   "cell_type": "code",
   "execution_count": 3,
   "metadata": {},
   "outputs": [
    {
     "output_type": "stream",
     "name": "stdout",
     "text": [
      "1D\n[ 0  1  2  3  4  5  6  7  8  9 10 11] \n\n2D\n[[ 0  1  2  3  4  5]\n [ 6  7  8  9 10 11]] \n\n3D\n[[[ 0  1]\n  [ 2  3]\n  [ 4  5]]\n\n [[ 6  7]\n  [ 8  9]\n  [10 11]]]\n"
     ]
    }
   ],
   "source": [
    "# Multi-dimensional arrays get printed as arrays of arrays\n",
    "\n",
    "print(\"1D\")\n",
    "print(np.arange(12), \"\\n\")\n",
    "\n",
    "print(\"2D\")\n",
    "print(np.arange(12).reshape((2, 6)), \"\\n\")\n",
    "\n",
    "print(\"3D\")\n",
    "print(np.arange(12).reshape((2, 3, 2)))"
   ]
  },
  {
   "cell_type": "code",
   "execution_count": 4,
   "metadata": {},
   "outputs": [
    {
     "output_type": "execute_result",
     "data": {
      "text/plain": [
       "array([   0,    1,    2, ..., 9997, 9998, 9999])"
      ]
     },
     "metadata": {},
     "execution_count": 4
    }
   ],
   "source": [
    "# Large vectors will have middle elements removed\n",
    "np.arange(10000)"
   ]
  },
  {
   "cell_type": "code",
   "execution_count": 5,
   "metadata": {},
   "outputs": [
    {
     "output_type": "stream",
     "name": "stdout",
     "text": [
      "[[   0    1    2 ...   97   98   99]\n [ 100  101  102 ...  197  198  199]\n [ 200  201  202 ...  297  298  299]\n ...\n [9700 9701 9702 ... 9797 9798 9799]\n [9800 9801 9802 ... 9897 9898 9899]\n [9900 9901 9902 ... 9997 9998 9999]]\n"
     ]
    }
   ],
   "source": [
    "# Large matrices will have middle rows/columns/etc removed\n",
    "print(np.arange(10000).reshape((100, 100)))"
   ]
  },
  {
   "cell_type": "code",
   "execution_count": 6,
   "metadata": {},
   "outputs": [
    {
     "output_type": "stream",
     "name": "stdout",
     "text": [
      "[[[     0      1      2 ...     97     98     99]\n  [   100    101    102 ...    197    198    199]\n  [   200    201    202 ...    297    298    299]\n  ...\n  [  9700   9701   9702 ...   9797   9798   9799]\n  [  9800   9801   9802 ...   9897   9898   9899]\n  [  9900   9901   9902 ...   9997   9998   9999]]\n\n [[ 10000  10001  10002 ...  10097  10098  10099]\n  [ 10100  10101  10102 ...  10197  10198  10199]\n  [ 10200  10201  10202 ...  10297  10298  10299]\n  ...\n  [ 19700  19701  19702 ...  19797  19798  19799]\n  [ 19800  19801  19802 ...  19897  19898  19899]\n  [ 19900  19901  19902 ...  19997  19998  19999]]\n\n [[ 20000  20001  20002 ...  20097  20098  20099]\n  [ 20100  20101  20102 ...  20197  20198  20199]\n  [ 20200  20201  20202 ...  20297  20298  20299]\n  ...\n  [ 29700  29701  29702 ...  29797  29798  29799]\n  [ 29800  29801  29802 ...  29897  29898  29899]\n  [ 29900  29901  29902 ...  29997  29998  29999]]\n\n ...\n\n [[970000 970001 970002 ... 970097 970098 970099]\n  [970100 970101 970102 ... 970197 970198 970199]\n  [970200 970201 970202 ... 970297 970298 970299]\n  ...\n  [979700 979701 979702 ... 979797 979798 979799]\n  [979800 979801 979802 ... 979897 979898 979899]\n  [979900 979901 979902 ... 979997 979998 979999]]\n\n [[980000 980001 980002 ... 980097 980098 980099]\n  [980100 980101 980102 ... 980197 980198 980199]\n  [980200 980201 980202 ... 980297 980298 980299]\n  ...\n  [989700 989701 989702 ... 989797 989798 989799]\n  [989800 989801 989802 ... 989897 989898 989899]\n  [989900 989901 989902 ... 989997 989998 989999]]\n\n [[990000 990001 990002 ... 990097 990098 990099]\n  [990100 990101 990102 ... 990197 990198 990199]\n  [990200 990201 990202 ... 990297 990298 990299]\n  ...\n  [999700 999701 999702 ... 999797 999798 999799]\n  [999800 999801 999802 ... 999897 999898 999899]\n  [999900 999901 999902 ... 999997 999998 999999]]]\n"
     ]
    }
   ],
   "source": [
    "print(np.arange(1000000).reshape((100, 100, 100)))"
   ]
  },
  {
   "cell_type": "code",
   "execution_count": 7,
   "metadata": {},
   "outputs": [
    {
     "output_type": "stream",
     "name": "stdout",
     "text": [
      "[ 0  1  2 ... 17 18 19]\n[ 0  1  2  3  4  5  6  7  8  9 10 11 12 13 14 15 16 17 18 19]\n"
     ]
    }
   ],
   "source": [
    "# A global threshold can be set that dictates\n",
    "# how many elements must exist to trigger to summarization\n",
    "\n",
    "np.set_printoptions(threshold=10)\n",
    "print(np.arange(20))\n",
    "\n",
    "# Set the threshold to sys.maxsize to prevent summarization\n",
    "\n",
    "np.set_printoptions(threshold=sys.maxsize)\n",
    "print(np.arange(20))"
   ]
  }
 ]
}