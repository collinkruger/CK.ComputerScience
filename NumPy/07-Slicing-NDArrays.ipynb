{
 "metadata": {
  "language_info": {
   "codemirror_mode": {
    "name": "ipython",
    "version": 3
   },
   "file_extension": ".py",
   "mimetype": "text/x-python",
   "name": "python",
   "nbconvert_exporter": "python",
   "pygments_lexer": "ipython3",
   "version": "3.8.6"
  },
  "orig_nbformat": 2,
  "kernelspec": {
   "name": "python3",
   "display_name": "Python 3.8.6 64-bit",
   "metadata": {
    "interpreter": {
     "hash": "31f2aee4e71d21fbe5cf8b01ff0e069b9275f58929596ceb00d14d90e3e16cd6"
    }
   }
  }
 },
 "nbformat": 4,
 "nbformat_minor": 2,
 "cells": [
  {
   "cell_type": "code",
   "execution_count": 1,
   "metadata": {},
   "outputs": [],
   "source": [
    "import numpy as np"
   ]
  },
  {
   "cell_type": "code",
   "execution_count": 3,
   "metadata": {},
   "outputs": [
    {
     "output_type": "execute_result",
     "data": {
      "text/plain": [
       "array([  1,   4,   9,  16,  25,  36,  49,  64,  81, 100])"
      ]
     },
     "metadata": {},
     "execution_count": 3
    }
   ],
   "source": [
    "vec = np.arange(1, 11) ** 2\n",
    "vec"
   ]
  },
  {
   "cell_type": "code",
   "execution_count": 8,
   "metadata": {},
   "outputs": [
    {
     "output_type": "stream",
     "name": "stdout",
     "text": [
      "[ 9 16 25 36]\n[ 1  4  9 16 25 36]\n[ 49  64  81 100]\n"
     ]
    }
   ],
   "source": [
    "# Slicing can be from index to index (INCLUSIVE to EXCLUSIVE)\n",
    "print(vec[2:6])\n",
    "\n",
    "# From the beginning to an index (EXCLUSIVE)\n",
    "print(vec[:6])\n",
    "\n",
    "# From an index to the end (INCLUSIVE)\n",
    "print(vec[6:])"
   ]
  },
  {
   "cell_type": "code",
   "execution_count": 12,
   "metadata": {},
   "outputs": [
    {
     "output_type": "stream",
     "name": "stdout",
     "text": [
      "[36 49]\n[ 1  4  9 16 25]\n[ 36  49  64  81 100]\n"
     ]
    }
   ],
   "source": [
    "# Reasonable negative slicing also works\n",
    "\n",
    "print(vec[-5:-3])\n",
    "print(vec[:-5])\n",
    "print(vec[-5:])"
   ]
  },
  {
   "cell_type": "code",
   "execution_count": 14,
   "metadata": {},
   "outputs": [
    {
     "output_type": "stream",
     "name": "stdout",
     "text": [
      "[ 4  9 16 25]\n[ 4  9 16 25 36 49 64]\n"
     ]
    }
   ],
   "source": [
    "# And mixing the two\n",
    "\n",
    "print(vec[1:-5])\n",
    "print(vec[-9:8])"
   ]
  },
  {
   "cell_type": "code",
   "execution_count": 22,
   "metadata": {},
   "outputs": [
    {
     "output_type": "stream",
     "name": "stdout",
     "text": [
      "[ 9 36]\n[ 1 16 49]\n[  1  16  49 100]\n"
     ]
    }
   ],
   "source": [
    "# Indexing also supports stepping\n",
    "# [beginning]:[ending]:step\n",
    "\n",
    "print(vec[2:8:3])\n",
    "print(vec[:8:3])\n",
    "print(vec[::3])"
   ]
  },
  {
   "cell_type": "code",
   "execution_count": 35,
   "metadata": {},
   "outputs": [
    {
     "output_type": "stream",
     "name": "stdout",
     "text": [
      "[81 49 25]\n[100  64  36  16]\n[100  64  36  16   4]\n[81 49 25]\n[ 9 16 25 36 49 64]\n[100  81  64  49  36  25  16   9   4   1]\n"
     ]
    }
   ],
   "source": [
    "# And negatives of stepping as well\n",
    "\n",
    "print(vec[8:2:-2])\n",
    "print(vec[:2:-2])\n",
    "print(vec[::-2])\n",
    "\n",
    "print(vec[-2:-8:-2])\n",
    "print(vec[-8:-2])\n",
    "\n",
    "# Which can be used to reverse an ndarray\n",
    "print(vec[::-1])"
   ]
  },
  {
   "cell_type": "code",
   "execution_count": null,
   "metadata": {},
   "outputs": [],
   "source": []
  }
 ]
}