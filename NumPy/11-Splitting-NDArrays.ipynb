{
 "metadata": {
  "language_info": {
   "codemirror_mode": {
    "name": "ipython",
    "version": 3
   },
   "file_extension": ".py",
   "mimetype": "text/x-python",
   "name": "python",
   "nbconvert_exporter": "python",
   "pygments_lexer": "ipython3",
   "version": "3.8.6"
  },
  "orig_nbformat": 2,
  "kernelspec": {
   "name": "python3",
   "display_name": "Python 3.8.6 64-bit",
   "metadata": {
    "interpreter": {
     "hash": "31f2aee4e71d21fbe5cf8b01ff0e069b9275f58929596ceb00d14d90e3e16cd6"
    }
   }
  }
 },
 "nbformat": 4,
 "nbformat_minor": 2,
 "cells": [
  {
   "cell_type": "code",
   "execution_count": 2,
   "metadata": {},
   "outputs": [],
   "source": [
    "import numpy as np"
   ]
  },
  {
   "cell_type": "code",
   "execution_count": 3,
   "metadata": {},
   "outputs": [
    {
     "output_type": "display_data",
     "data": {
      "text/plain": "array([ 0,  1,  2,  3,  4,  5,  6,  7,  8,  9, 10, 11])"
     },
     "metadata": {}
    },
    {
     "output_type": "display_data",
     "data": {
      "text/plain": "array([[ 0,  1,  2,  3],\n       [ 4,  5,  6,  7],\n       [ 8,  9, 10, 11]])"
     },
     "metadata": {}
    },
    {
     "output_type": "display_data",
     "data": {
      "text/plain": "array([[ 0,  1,  2],\n       [ 3,  4,  5],\n       [ 6,  7,  8],\n       [ 9, 10, 11]])"
     },
     "metadata": {}
    }
   ],
   "source": [
    "vec = np.arange(12)\n",
    "mat = np.arange(12).reshape(3, -1)\n",
    "mat2 = np.arange(12).reshape(4, -1)\n",
    "\n",
    "display(vec)\n",
    "display(mat)\n",
    "display(mat2)"
   ]
  },
  {
   "cell_type": "code",
   "execution_count": 4,
   "metadata": {},
   "outputs": [
    {
     "output_type": "display_data",
     "data": {
      "text/plain": "[array([0, 1, 2, 3]), array([4, 5, 6, 7]), array([ 8,  9, 10, 11])]"
     },
     "metadata": {}
    },
    {
     "output_type": "display_data",
     "data": {
      "text/plain": "[array([0, 1, 2]), array([3, 4, 5]), array([6, 7, 8]), array([ 9, 10, 11])]"
     },
     "metadata": {}
    }
   ],
   "source": [
    "# \"split\" enables creating a array of equal length ndarrays\n",
    "# NOTE: Supplying an split value that doesn't evenly split will throw an error\n",
    "#       Example: np.split(np.array([1, 2, 3, 4, 5]), 3) because 5 isn't evenly divisible by 3\n",
    "\n",
    "display(np.split(vec, 3))\n",
    "display(np.split(vec, 4))"
   ]
  },
  {
   "cell_type": "code",
   "execution_count": 5,
   "metadata": {},
   "outputs": [
    {
     "output_type": "execute_result",
     "data": {
      "text/plain": [
       "[array([0, 1]), array([2, 3]), array([4, 5, 6, 7, 8, 9]), array([10, 11])]"
      ]
     },
     "metadata": {},
     "execution_count": 5
    }
   ],
   "source": [
    "# \"split\" can also be called with an array of indices which represent the split points\n",
    "\n",
    "np.split(vec, [2, 4, 10])"
   ]
  },
  {
   "cell_type": "code",
   "execution_count": 6,
   "metadata": {},
   "outputs": [
    {
     "output_type": "execute_result",
     "data": {
      "text/plain": [
       "[array([[0, 1],\n",
       "        [4, 5],\n",
       "        [8, 9]]),\n",
       " array([[ 2,  3],\n",
       "        [ 6,  7],\n",
       "        [10, 11]])]"
      ]
     },
     "metadata": {},
     "execution_count": 6
    }
   ],
   "source": [
    "# \"hsplit\" enables horizontally splitting an ndarray\n",
    "# creating two horizontal pieces (by creating a vertical cut through the matrix)\n",
    "# the name is confussing\n",
    "\n",
    "np.hsplit(mat, 2)"
   ]
  },
  {
   "cell_type": "code",
   "execution_count": 7,
   "metadata": {},
   "outputs": [
    {
     "output_type": "execute_result",
     "data": {
      "text/plain": [
       "[array([[0],\n",
       "        [4],\n",
       "        [8]]),\n",
       " array([[ 1,  2],\n",
       "        [ 5,  6],\n",
       "        [ 9, 10]]),\n",
       " array([[ 3],\n",
       "        [ 7],\n",
       "        [11]])]"
      ]
     },
     "metadata": {},
     "execution_count": 7
    }
   ],
   "source": [
    "# Similar to \"split\", \"hsplit\" also supports slicing on indices\n",
    "\n",
    "np.hsplit(mat, [1, 3])"
   ]
  },
  {
   "cell_type": "code",
   "execution_count": 8,
   "metadata": {},
   "outputs": [
    {
     "output_type": "display_data",
     "data": {
      "text/plain": "[array([[0, 1, 2],\n        [3, 4, 5]]),\n array([[ 6,  7,  8],\n        [ 9, 10, 11]])]"
     },
     "metadata": {}
    },
    {
     "output_type": "display_data",
     "data": {
      "text/plain": "[array([[0, 1, 2]]),\n array([[3, 4, 5],\n        [6, 7, 8]]),\n array([[ 9, 10, 11]])]"
     },
     "metadata": {}
    }
   ],
   "source": [
    "# \"vsplit\" is the vertical equivalent of \"hsplit\"\n",
    "\n",
    "display(np.vsplit(mat2, 2))\n",
    "display(np.vsplit(mat2, [1, 3]))"
   ]
  },
  {
   "cell_type": "code",
   "execution_count": 11,
   "metadata": {},
   "outputs": [
    {
     "output_type": "display_data",
     "data": {
      "text/plain": "[array([[0, 1, 2],\n        [3, 4, 5]]),\n array([[ 6,  7,  8],\n        [ 9, 10, 11]])]"
     },
     "metadata": {}
    },
    {
     "output_type": "display_data",
     "data": {
      "text/plain": "[array([[0],\n        [3],\n        [6],\n        [9]]),\n array([[ 1],\n        [ 4],\n        [ 7],\n        [10]]),\n array([[ 2],\n        [ 5],\n        [ 8],\n        [11]])]"
     },
     "metadata": {}
    }
   ],
   "source": [
    "# vertical and row splits can be done using the split\n",
    "# function and supplying an axis argument\n",
    "\n",
    "display(np.split(mat2, 2, axis=0)) # split on rows (vertical split)\n",
    "display(np.split(mat2, 3, axis=1)) # split on columns (horizontal split)"
   ]
  },
  {
   "cell_type": "code",
   "execution_count": null,
   "metadata": {},
   "outputs": [],
   "source": []
  }
 ]
}