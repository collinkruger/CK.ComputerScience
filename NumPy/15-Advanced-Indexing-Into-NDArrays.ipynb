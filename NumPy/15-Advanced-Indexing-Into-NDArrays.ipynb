{
 "metadata": {
  "language_info": {
   "codemirror_mode": {
    "name": "ipython",
    "version": 3
   },
   "file_extension": ".py",
   "mimetype": "text/x-python",
   "name": "python",
   "nbconvert_exporter": "python",
   "pygments_lexer": "ipython3",
   "version": "3.8.6"
  },
  "orig_nbformat": 2,
  "kernelspec": {
   "name": "python3",
   "display_name": "Python 3.8.6 64-bit",
   "metadata": {
    "interpreter": {
     "hash": "31f2aee4e71d21fbe5cf8b01ff0e069b9275f58929596ceb00d14d90e3e16cd6"
    }
   }
  }
 },
 "nbformat": 4,
 "nbformat_minor": 2,
 "cells": [
  {
   "cell_type": "code",
   "execution_count": 19,
   "metadata": {},
   "outputs": [],
   "source": [
    "import numpy as np\n",
    "import csv"
   ]
  },
  {
   "cell_type": "code",
   "execution_count": 20,
   "metadata": {},
   "outputs": [],
   "source": [
    "vec = np.arange(10) ** 2"
   ]
  },
  {
   "cell_type": "code",
   "execution_count": 21,
   "metadata": {},
   "outputs": [
    {
     "output_type": "execute_result",
     "data": {
      "text/plain": [
       "array([ 0,  4, 16, 36, 64])"
      ]
     },
     "metadata": {},
     "execution_count": 21
    }
   ],
   "source": [
    "# Beyond single integers, ndarrays can be indexed into using single dimensional arrays of integers\n",
    "\n",
    "vec[[0, 2, 4, 6, 8]]"
   ]
  },
  {
   "cell_type": "code",
   "execution_count": 22,
   "metadata": {},
   "outputs": [
    {
     "output_type": "execute_result",
     "data": {
      "text/plain": [
       "array([[ 0,  1],\n",
       "       [64, 81]])"
      ]
     },
     "metadata": {},
     "execution_count": 22
    }
   ],
   "source": [
    "# And N-dimensional ndarrays\n",
    "\n",
    "indice_arr = np.array([[0, 1], [8, 9]])\n",
    "\n",
    "vec[indice_arr]"
   ]
  },
  {
   "cell_type": "code",
   "execution_count": 23,
   "metadata": {},
   "outputs": [],
   "source": [
    "# In both cases above, the shape of the\n",
    "# output ndarray is the shape of the\n",
    "# indices array"
   ]
  },
  {
   "cell_type": "code",
   "execution_count": 24,
   "metadata": {},
   "outputs": [
    {
     "output_type": "display_data",
     "data": {
      "text/plain": "'source'"
     },
     "metadata": {}
    },
    {
     "output_type": "display_data",
     "data": {
      "text/plain": "array([[ 0,  1,  2,  3,  4],\n       [ 5,  6,  7,  8,  9],\n       [10, 11, 12, 13, 14],\n       [15, 16, 17, 18, 19],\n       [20, 21, 22, 23, 24]])"
     },
     "metadata": {}
    },
    {
     "output_type": "display_data",
     "data": {
      "text/plain": "'result'"
     },
     "metadata": {}
    },
    {
     "output_type": "display_data",
     "data": {
      "text/plain": "array([[0, 4],\n       [5, 9]])"
     },
     "metadata": {}
    }
   ],
   "source": [
    "# NDArrays can also be indexed into when\n",
    "# supplied multiple ndarrays, each representing\n",
    "# a single dimension's index.\n",
    "# Note: The shapes of the indices arrays must be identical.\n",
    "\n",
    "\n",
    "square = np.arange(25).reshape(5, 5)\n",
    "display(\"source\", square)\n",
    "\n",
    "row_indices = np.array([[0, 0], [1, 1]])\n",
    "col_indices = np.array([[0, 4], [0, 4]])\n",
    "\n",
    "out = square[row_indices, col_indices]\n",
    "display(\"result\", out)\n",
    "\n",
    "# As we see below, the resulting ndarray\n",
    "# has the same shape as the indices ndarrays,\n",
    "# and when indexing into the source ndarray,\n",
    "# a cell wise paring of the row and column\n",
    "# indices is used."
   ]
  },
  {
   "cell_type": "code",
   "execution_count": 25,
   "metadata": {},
   "outputs": [
    {
     "output_type": "display_data",
     "data": {
      "text/plain": "'source'"
     },
     "metadata": {}
    },
    {
     "output_type": "display_data",
     "data": {
      "text/plain": "array([[ 0,  1,  2,  3,  4],\n       [ 5,  6,  7,  8,  9],\n       [10, 11, 12, 13, 14],\n       [15, 16, 17, 18, 19],\n       [20, 21, 22, 23, 24]])"
     },
     "metadata": {}
    },
    {
     "output_type": "display_data",
     "data": {
      "text/plain": "'result'"
     },
     "metadata": {}
    },
    {
     "output_type": "display_data",
     "data": {
      "text/plain": "array([[99,  1,  2,  3, 99],\n       [99,  6,  7,  8, 99],\n       [10, 11, 12, 13, 14],\n       [15, 16, 17, 18, 19],\n       [20, 21, 22, 23, 24]])"
     },
     "metadata": {}
    }
   ],
   "source": [
    "# Beyond reading, dimension specific indexing can be used for writes\n",
    "# Once again, the indices arrays have to be of the same shape,\n",
    "# though their exact shape really doesn't matter (I think).\n",
    "\n",
    "\n",
    "square_b = np.arange(25).reshape(5, 5)\n",
    "display(\"source\", square_b)\n",
    "\n",
    "row_indices_b = np.array([[0, 0], [1, 1]])\n",
    "col_indices_b = np.array([[0, 4], [0, 4]])\n",
    "\n",
    "square_b[row_indices, col_indices] = 99\n",
    "display(\"result\", square_b)"
   ]
  },
  {
   "cell_type": "code",
   "execution_count": 26,
   "metadata": {},
   "outputs": [
    {
     "output_type": "execute_result",
     "data": {
      "text/plain": [
       "array([99,  1,  4,  9, 16, 25, 36, 49, 64, 99])"
      ]
     },
     "metadata": {},
     "execution_count": 26
    }
   ],
   "source": [
    "# And single dimensional indexing can also be used for writes\n",
    "\n",
    "vec[[0, 9]] = 99\n",
    "vec"
   ]
  },
  {
   "cell_type": "code",
   "execution_count": 39,
   "metadata": {},
   "outputs": [
    {
     "output_type": "display_data",
     "data": {
      "text/plain": "array([[ 0,  1,  2,  3,  4],\n       [ 5,  6,  7,  8,  9],\n       [10, 11, 12, 13, 14],\n       [15, 16, 17, 18, 19],\n       [20, 21, 22, 23, 24]])"
     },
     "metadata": {}
    },
    {
     "output_type": "display_data",
     "data": {
      "text/plain": "array([[ 0,  1],\n       [20, 21]])"
     },
     "metadata": {}
    },
    {
     "output_type": "display_data",
     "data": {
      "text/plain": "array([[ 0,  1],\n       [20, 21]])"
     },
     "metadata": {}
    }
   ],
   "source": [
    "# Mixing indexing styles is supported\n",
    "\n",
    "display( square )\n",
    "display( square[[0, 4], :2] )\n",
    "display( square[np.array([0, 4]), :2] )"
   ]
  },
  {
   "cell_type": "code",
   "execution_count": 47,
   "metadata": {},
   "outputs": [
    {
     "output_type": "display_data",
     "data": {
      "text/plain": "'original'"
     },
     "metadata": {}
    },
    {
     "output_type": "display_data",
     "data": {
      "text/plain": "array([99,  1,  4,  9, 16, 25, 36, 49, 64, 99])"
     },
     "metadata": {}
    },
    {
     "output_type": "display_data",
     "data": {
      "text/plain": "'filtered'"
     },
     "metadata": {}
    },
    {
     "output_type": "display_data",
     "data": {
      "text/plain": "array([99,  4, 16, 36, 64])"
     },
     "metadata": {}
    }
   ],
   "source": [
    "# A boolean array or ndarray matching the size and shape\n",
    "# of the original array can be used to filter to \"True\" indices\n",
    "\n",
    "display(\"original\", vec)\n",
    "\n",
    "bool_indices = [True, False, True, False, True, False, True, False, True, False]\n",
    "display(\"filtered\", vec[bool_indices])\n"
   ]
  },
  {
   "cell_type": "code",
   "execution_count": 50,
   "metadata": {},
   "outputs": [
    {
     "output_type": "display_data",
     "data": {
      "text/plain": "'vec with nans'"
     },
     "metadata": {}
    },
    {
     "output_type": "display_data",
     "data": {
      "text/plain": "array([ 1.,  2., nan,  4.,  5., nan,  7.,  8.,  9., nan])"
     },
     "metadata": {}
    },
    {
     "output_type": "display_data",
     "data": {
      "text/plain": "'bool nan indices'"
     },
     "metadata": {}
    },
    {
     "output_type": "display_data",
     "data": {
      "text/plain": "[True, False, True, False, True, False, True, False, True, False]"
     },
     "metadata": {}
    },
    {
     "output_type": "display_data",
     "data": {
      "text/plain": "'non-nan elements'"
     },
     "metadata": {}
    },
    {
     "output_type": "display_data",
     "data": {
      "text/plain": "array([1., 2., 4., 5., 7., 8., 9.])"
     },
     "metadata": {}
    },
    {
     "output_type": "execute_result",
     "data": {
      "text/plain": [
       "array([1., 2., 4., 5., 7., 8., 9.])"
      ]
     },
     "metadata": {},
     "execution_count": 50
    }
   ],
   "source": [
    "# Putting it all together, the following\n",
    "# example uses a universal filter to find\n",
    "# indices that are not nan.\n",
    "\n",
    "vec_with_nans = np.array([1, 2, np.nan, 4, 5, np.nan, 7, 8, 9, np.nan])\n",
    "display(\"vec with nans\", vec_with_nans)\n",
    "\n",
    "bool_nan_indices = ~np.isnan(vec_with_nans)\n",
    "display(\"bool nan indices\", bool_indices)\n",
    "\n",
    "display(\"non-nan elements\", vec_with_nans[bool_nan_indices])\n",
    "\n",
    "# tersly\n",
    "tersely = vec_with_nans[~np.isnan(vec_with_nans)]\n",
    "display(\"tersely\", tersely)"
   ]
  },
  {
   "cell_type": "code",
   "execution_count": null,
   "metadata": {},
   "outputs": [],
   "source": []
  }
 ]
}