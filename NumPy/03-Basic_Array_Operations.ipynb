{
 "metadata": {
  "language_info": {
   "codemirror_mode": {
    "name": "ipython",
    "version": 3
   },
   "file_extension": ".py",
   "mimetype": "text/x-python",
   "name": "python",
   "nbconvert_exporter": "python",
   "pygments_lexer": "ipython3",
   "version": "3.8.6"
  },
  "orig_nbformat": 2,
  "kernelspec": {
   "name": "python386jvsc74a57bd0916dbcbb3f70747c44a77c7bcd40155683ae19c65e1c03b4aa3499c5328201f1",
   "display_name": "Python 3.8.6 64-bit"
  },
  "metadata": {
   "interpreter": {
    "hash": "916dbcbb3f70747c44a77c7bcd40155683ae19c65e1c03b4aa3499c5328201f1"
   }
  }
 },
 "nbformat": 4,
 "nbformat_minor": 2,
 "cells": [
  {
   "cell_type": "code",
   "execution_count": 1,
   "metadata": {},
   "outputs": [],
   "source": [
    "import numpy as np"
   ]
  },
  {
   "cell_type": "code",
   "execution_count": 2,
   "metadata": {},
   "outputs": [],
   "source": [
    "vec_a = np.array([10, 10, 10])\n",
    "vec_b = np.array([5, 5, 5])"
   ]
  },
  {
   "cell_type": "code",
   "execution_count": 3,
   "metadata": {},
   "outputs": [
    {
     "output_type": "stream",
     "name": "stdout",
     "text": [
      "[15 15 15]\n[5 5 5]\n[50 50 50]\n[2. 2. 2.]\n"
     ]
    }
   ],
   "source": [
    "# Pairwise Addition/Subraction/Multiplication/Division (And Many More!)\n",
    "# See: https://numpy.org/doc/stable/reference/arrays.ndarray.html#arithmetic-matrix-multiplication-and-comparison-operations\n",
    "print(vec_a + vec_b)\n",
    "print(vec_a - vec_b)\n",
    "print(vec_a * vec_b)\n",
    "print(vec_a / vec_b)"
   ]
  },
  {
   "cell_type": "code",
   "execution_count": 4,
   "metadata": {},
   "outputs": [
    {
     "output_type": "stream",
     "name": "stdout",
     "text": [
      "[11 11 11]\n[9 9 9]\n[20 20 20]\n[5. 5. 5.]\n[0 0 0]\n"
     ]
    }
   ],
   "source": [
    "# Elementwise Scalar Operations\n",
    "\n",
    "print(vec_a + 1)\n",
    "print(vec_a - 1)\n",
    "print(vec_a * 2)\n",
    "print(vec_a / 2)\n",
    "print(vec_a % 2)"
   ]
  },
  {
   "cell_type": "code",
   "execution_count": 5,
   "metadata": {},
   "outputs": [
    {
     "output_type": "stream",
     "name": "stdout",
     "text": [
      "[False False False]\n[ True  True  True]\n[ True  True  True]\n[False False False]\n"
     ]
    }
   ],
   "source": [
    "# Elementwise Boolean Operations\n",
    "\n",
    "print(vec_a > 10)\n",
    "print(vec_a <= 10)\n",
    "print(vec_a == 10)\n",
    "print(vec_a != 10)"
   ]
  },
  {
   "cell_type": "code",
   "execution_count": 6,
   "metadata": {},
   "outputs": [],
   "source": [
    "matrix_a = np.array([[1, 2], [3, 4]])\n",
    "matrix_b = np.array([[5, 6], [7, 8]])"
   ]
  },
  {
   "cell_type": "code",
   "execution_count": 7,
   "metadata": {},
   "outputs": [
    {
     "output_type": "stream",
     "name": "stdout",
     "text": [
      "[[ 6  8]\n [10 12]]\n[[-4 -4]\n [-4 -4]]\n[[ 5 12]\n [21 32]]\n[[0.2        0.33333333]\n [0.42857143 0.5       ]]\n"
     ]
    }
   ],
   "source": [
    "# Pairwise Addition/Subtraction/Multiplication/Division\n",
    "\n",
    "print(matrix_a + matrix_b)\n",
    "print(matrix_a - matrix_b)\n",
    "print(matrix_a * matrix_b)\n",
    "print(matrix_a / matrix_b)"
   ]
  },
  {
   "cell_type": "code",
   "execution_count": 8,
   "metadata": {},
   "outputs": [
    {
     "output_type": "stream",
     "name": "stdout",
     "text": [
      "[[19 22]\n [43 50]]\n[[19 22]\n [43 50]]\n"
     ]
    }
   ],
   "source": [
    "# Matrix Multiplication\n",
    "\n",
    "print(matrix_a.dot(matrix_b))\n",
    "\n",
    "print(np.dot(matrix_a, matrix_b))"
   ]
  },
  {
   "cell_type": "code",
   "execution_count": 9,
   "metadata": {},
   "outputs": [
    {
     "output_type": "stream",
     "name": "stdout",
     "text": [
      "10\n1\n4\n"
     ]
    }
   ],
   "source": [
    "# Aggregate and Range functions (There are many more!) https://numpy.org/doc/stable/reference/arrays.ndarray.html#calculation\n",
    "\n",
    "print(matrix_a.sum())\n",
    "print(matrix_a.min())\n",
    "print(matrix_a.max())"
   ]
  },
  {
   "cell_type": "code",
   "execution_count": 10,
   "metadata": {},
   "outputs": [
    {
     "output_type": "stream",
     "name": "stdout",
     "text": [
      "sum\n[4 6]\n[3 7]\n\nmin\n[1 2]\n[1 3]\n\nmax\n[3 4]\n[2 4]\n"
     ]
    }
   ],
   "source": [
    "# Aggregate and Range functions (There are many more!) https://numpy.org/doc/stable/reference/arrays.ndarray.html#calculation\n",
    "# can be limited to an axis\n",
    "# axis=0: iterate over rows\n",
    "# axis=1: iterate over columns\n",
    "# axis=n: iterate over n-th dimension\n",
    "\n",
    "print(\"sum\")\n",
    "print(matrix_a.sum(axis=0))\n",
    "print(matrix_a.sum(axis=1))\n",
    "\n",
    "print(\"\\nmin\")\n",
    "print(matrix_a.min(axis=0))\n",
    "print(matrix_a.min(axis=1))\n",
    "\n",
    "print(\"\\nmax\")\n",
    "print(matrix_a.max(axis=0))\n",
    "print(matrix_a.max(axis=1))"
   ]
  },
  {
   "cell_type": "code",
   "execution_count": 13,
   "metadata": {},
   "outputs": [
    {
     "output_type": "execute_result",
     "data": {
      "text/plain": [
       "b'\\x80\\x02cnumpy.core.multiarray\\n_reconstruct\\nq\\x00cnumpy\\nndarray\\nq\\x01K\\x00\\x85q\\x02c_codecs\\nencode\\nq\\x03X\\x01\\x00\\x00\\x00bq\\x04X\\x06\\x00\\x00\\x00latin1q\\x05\\x86q\\x06Rq\\x07\\x87q\\x08Rq\\t(K\\x01K\\x02K\\x02\\x86q\\ncnumpy\\ndtype\\nq\\x0bX\\x02\\x00\\x00\\x00i8q\\x0c\\x89\\x88\\x87q\\rRq\\x0e(K\\x03X\\x01\\x00\\x00\\x00<q\\x0fNNNJ\\xff\\xff\\xff\\xffJ\\xff\\xff\\xff\\xffK\\x00tq\\x10b\\x89h\\x03X \\x00\\x00\\x00\\x01\\x00\\x00\\x00\\x00\\x00\\x00\\x00\\x02\\x00\\x00\\x00\\x00\\x00\\x00\\x00\\x03\\x00\\x00\\x00\\x00\\x00\\x00\\x00\\x04\\x00\\x00\\x00\\x00\\x00\\x00\\x00q\\x11h\\x05\\x86q\\x12Rq\\x13tq\\x14b.'"
      ]
     },
     "metadata": {},
     "execution_count": 13
    }
   ],
   "source": [
    "# NDArrays can be dumped to disk (dump)\n",
    "# or a string (dumps)\n",
    "\n",
    "matrix_a.dump(\"data/dump.example\")\n",
    "\n",
    "matrix_a.dumps()"
   ]
  }
 ]
}