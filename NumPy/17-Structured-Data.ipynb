{
 "metadata": {
  "language_info": {
   "codemirror_mode": {
    "name": "ipython",
    "version": 3
   },
   "file_extension": ".py",
   "mimetype": "text/x-python",
   "name": "python",
   "nbconvert_exporter": "python",
   "pygments_lexer": "ipython3",
   "version": "3.8.6"
  },
  "orig_nbformat": 2,
  "kernelspec": {
   "name": "python3",
   "display_name": "Python 3",
   "language": "python"
  }
 },
 "nbformat": 4,
 "nbformat_minor": 2,
 "cells": [
  {
   "cell_type": "code",
   "execution_count": 1,
   "metadata": {},
   "outputs": [],
   "source": [
    "import numpy as np"
   ]
  },
  {
   "cell_type": "code",
   "execution_count": 5,
   "metadata": {},
   "outputs": [],
   "source": [
    "style = [\"Art Deco\", \"Craftsman\", \"Colonial\", \"Cape Cod\"]\n",
    "id = [1, 2, 3, 4]\n",
    "rating = [98.8, 51.2, 76.3, 88.9]"
   ]
  },
  {
   "cell_type": "code",
   "execution_count": 12,
   "metadata": {},
   "outputs": [],
   "source": [
    "# When working with structured data, we can specify\n",
    "# an NDArray by providings names/formats/etc. to the\n",
    "# dtype argument of contruction style functions.\n",
    "# Other formats for dtype are also acceptable\n",
    "# See: https://numpy.org/doc/stable/reference/generated/numpy.zeros.html\n",
    "\n",
    "houses = np.zeros(4,\n",
    "                  dtype={ \"names\": (\"style\", \"id\", \"rating\"),\n",
    "                          \"formats\": (\"U9\", \"i4\", \"f8\") } )"
   ]
  },
  {
   "cell_type": "code",
   "execution_count": 13,
   "metadata": {},
   "outputs": [
    {
     "output_type": "execute_result",
     "data": {
      "text/plain": [
       "array([('', 0, 0.), ('', 0, 0.), ('', 0, 0.), ('', 0, 0.)],\n",
       "      dtype=[('style', '<U9'), ('id', '<i4'), ('rating', '<f8')])"
      ]
     },
     "metadata": {},
     "execution_count": 13
    }
   ],
   "source": [
    "# In this case, since we supplied type information to\n",
    "# np.zeros, it will intelligently build up an zero\n",
    "# NDArray, with type specific zeros supplied.\n",
    "\n",
    "houses"
   ]
  },
  {
   "cell_type": "code",
   "execution_count": 17,
   "metadata": {},
   "outputs": [
    {
     "output_type": "display_data",
     "data": {
      "text/plain": "array([('Art Deco', 1, 98.8), ('Craftsman', 2, 51.2),\n       ('Colonial', 3, 76.3), ('Cape Cod', 4, 88.9)],\n      dtype=[('style', '<U9'), ('id', '<i4'), ('rating', '<f8')])"
     },
     "metadata": {}
    }
   ],
   "source": [
    "# When names of columns been supplied (ex: above)\n",
    "# we index into columns by name.\n",
    "# In this case, I am settings the columns to the\n",
    "# data I created above.\n",
    "\n",
    "houses[\"style\"] = style\n",
    "houses[\"id\"] = id\n",
    "houses[\"rating\"] = rating\n",
    "\n",
    "display( houses )"
   ]
  },
  {
   "cell_type": "code",
   "execution_count": 16,
   "metadata": {},
   "outputs": [
    {
     "output_type": "display_data",
     "data": {
      "text/plain": "array(['Art Deco', 'Craftsman', 'Colonial', 'Cape Cod'], dtype='<U9')"
     },
     "metadata": {}
    },
    {
     "output_type": "display_data",
     "data": {
      "text/plain": "array([1, 2, 3, 4], dtype=int32)"
     },
     "metadata": {}
    },
    {
     "output_type": "display_data",
     "data": {
      "text/plain": "array([98.8, 51.2, 76.3, 88.9])"
     },
     "metadata": {}
    }
   ],
   "source": [
    "# Reading by column name\n",
    "\n",
    "display( houses[\"style\"] )\n",
    "display( houses[\"id\"] )\n",
    "display( houses[\"rating\"] )"
   ]
  },
  {
   "cell_type": "code",
   "execution_count": 21,
   "metadata": {},
   "outputs": [
    {
     "output_type": "display_data",
     "data": {
      "text/plain": "('Art Deco', 1, 98.8)"
     },
     "metadata": {}
    },
    {
     "output_type": "display_data",
     "data": {
      "text/plain": "('Cape Cod', 4, 88.9)"
     },
     "metadata": {}
    },
    {
     "output_type": "display_data",
     "data": {
      "text/plain": "array([('Craftsman', 2, 51.2)],\n      dtype=[('style', '<U9'), ('id', '<i4'), ('rating', '<f8')])"
     },
     "metadata": {}
    },
    {
     "output_type": "display_data",
     "data": {
      "text/plain": "array([('Craftsman', 2, 51.2), ('Colonial', 3, 76.3)],\n      dtype=[('style', '<U9'), ('id', '<i4'), ('rating', '<f8')])"
     },
     "metadata": {}
    }
   ],
   "source": [
    "# The usual indexing suspects are available\n",
    "\n",
    "display( houses[0] )\n",
    "display( houses[-1] )\n",
    "display( houses[1:2] )\n",
    "display( houses[[False, True, True, False]] )"
   ]
  },
  {
   "cell_type": "code",
   "execution_count": 26,
   "metadata": {},
   "outputs": [
    {
     "output_type": "display_data",
     "data": {
      "text/plain": "'Art Deco'"
     },
     "metadata": {}
    },
    {
     "output_type": "display_data",
     "data": {
      "text/plain": "array([('Art Deco', 1, 98.8), ('Cape Cod', 4, 88.9)],\n      dtype=[('style', '<U9'), ('id', '<i4'), ('rating', '<f8')])"
     },
     "metadata": {}
    }
   ],
   "source": [
    "# Mixing numeric indices and named columns (dimensions?) work.\n",
    "# And pretty much (all?) all the other syntax we've learned so far.\n",
    "\n",
    "display( houses[0][\"style\"] )\n",
    "display( houses[houses[\"rating\"] >= 85.0] )"
   ]
  }
 ]
}