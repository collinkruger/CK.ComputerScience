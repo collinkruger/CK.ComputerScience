{
 "metadata": {
  "language_info": {
   "codemirror_mode": {
    "name": "ipython",
    "version": 3
   },
   "file_extension": ".py",
   "mimetype": "text/x-python",
   "name": "python",
   "nbconvert_exporter": "python",
   "pygments_lexer": "ipython3",
   "version": "3.8.6"
  },
  "orig_nbformat": 2,
  "kernelspec": {
   "name": "python3",
   "display_name": "Python 3.8.6 64-bit",
   "metadata": {
    "interpreter": {
     "hash": "31f2aee4e71d21fbe5cf8b01ff0e069b9275f58929596ceb00d14d90e3e16cd6"
    }
   }
  }
 },
 "nbformat": 4,
 "nbformat_minor": 2,
 "cells": [
  {
   "cell_type": "code",
   "execution_count": 72,
   "metadata": {},
   "outputs": [],
   "source": [
    "import numpy as np"
   ]
  },
  {
   "cell_type": "code",
   "execution_count": 73,
   "metadata": {},
   "outputs": [
    {
     "output_type": "display_data",
     "data": {
      "text/plain": "array([  1,   4,   9,  16,  25,  36,  49,  64,  81, 100])"
     },
     "metadata": {}
    },
    {
     "output_type": "display_data",
     "data": {
      "text/plain": "array([[  1,   4,   9,  16,  25],\n       [ 36,  49,  64,  81, 100]])"
     },
     "metadata": {}
    }
   ],
   "source": [
    "vec = np.arange(1, 11) ** 2\n",
    "mat = vec.reshape((2, -1))\n",
    "\n",
    "display(vec)\n",
    "display(mat)"
   ]
  },
  {
   "cell_type": "code",
   "execution_count": 74,
   "metadata": {},
   "outputs": [
    {
     "output_type": "stream",
     "name": "stdout",
     "text": [
      "1\n4\n9\n16\n25\n36\n49\n64\n81\n100\n"
     ]
    }
   ],
   "source": [
    "# Iterating over a vector yields individual elements\n",
    "for x in vec:\n",
    "    print(x)"
   ]
  },
  {
   "cell_type": "code",
   "execution_count": 75,
   "metadata": {},
   "outputs": [
    {
     "output_type": "stream",
     "name": "stdout",
     "text": [
      "[ 1  4  9 16 25]\n[ 36  49  64  81 100]\n"
     ]
    }
   ],
   "source": [
    "# Iterating over a matrix yields rows (by default)\n",
    "for row in mat:\n",
    "    print(row)"
   ]
  },
  {
   "cell_type": "code",
   "execution_count": 76,
   "metadata": {},
   "outputs": [
    {
     "output_type": "display_data",
     "data": {
      "text/plain": "numpy.ndarray"
     },
     "metadata": {}
    },
    {
     "output_type": "stream",
     "name": "stdout",
     "text": [
      "1\n4\n9\n16\n25\n36\n49\n64\n81\n100\n"
     ]
    }
   ],
   "source": [
    "# \"flatten\" takes an n-dimensional ndarray and returns a 1-dimensional array\n",
    "# \"flatten\" is row major, meaning it flattens an entire row before moving on to the next row\n",
    "\n",
    "flat = mat.flatten()\n",
    "\n",
    "display(type(flat))\n",
    "\n",
    "for x in flat:\n",
    "    print(x)"
   ]
  },
  {
   "cell_type": "code",
   "execution_count": 77,
   "metadata": {},
   "outputs": [
    {
     "output_type": "stream",
     "name": "stdout",
     "text": [
      "1\n36\n4\n49\n9\n64\n16\n81\n25\n100\n"
     ]
    }
   ],
   "source": [
    "# \"flatten\" can return an column major ndarray by passing in the \"F\" \"order\" flag\n",
    "# See: https://numpy.org/doc/stable/reference/generated/numpy.ndarray.flatten.html\n",
    "# Note: \"F\" stands for Fortran\n",
    "\n",
    "flat_column_wise = mat.flatten(order=\"F\")\n",
    "\n",
    "for x in flat_column_wise:\n",
    "    print(x)"
   ]
  },
  {
   "cell_type": "code",
   "execution_count": 78,
   "metadata": {},
   "outputs": [
    {
     "output_type": "display_data",
     "data": {
      "text/plain": "numpy.nditer"
     },
     "metadata": {}
    },
    {
     "output_type": "stream",
     "name": "stdout",
     "text": [
      "vec\n1\n4\n9\n16\n25\n36\n49\n64\n81\n100\n\nmat\n1\n4\n9\n16\n25\n36\n49\n64\n81\n100\n\nmat: column major\n1\n36\n4\n49\n9\n64\n16\n81\n25\n100\n"
     ]
    }
   ],
   "source": [
    "# nditer class is similar to an IEnumerable from .NET, and enables similar iterations to \"flatten\"\n",
    "\n",
    "display(type(np.nditer(vec)))\n",
    "\n",
    "print(\"vec\")\n",
    "for x in np.nditer(vec):\n",
    "    print(x)\n",
    "\n",
    "print(\"\\nmat\")\n",
    "for x in np.nditer(mat):\n",
    "    print(x)\n",
    "\n",
    "print(\"\\nmat: column major\")\n",
    "for x in np.nditer(mat, order=\"F\"):\n",
    "    print(x)"
   ]
  },
  {
   "cell_type": "code",
   "execution_count": 79,
   "metadata": {},
   "outputs": [
    {
     "output_type": "stream",
     "name": "stdout",
     "text": [
      "[ 1 36]\n[ 4 49]\n[ 9 64]\n[16 81]\n[ 25 100]\n"
     ]
    }
   ],
   "source": [
    "# nditer supports many flags which can improve performance in certain situations\n",
    "# or return data in different shapes\n",
    "# See: https://numpy.org/doc/stable/reference/generated/numpy.nditer.html\n",
    "# As an example the following flag when paired with the \"F\" order returns an array per column\n",
    "\n",
    "columns = np.nditer(mat, order=\"F\", flags=[\"external_loop\"])\n",
    "\n",
    "for col in columns:\n",
    "    print(col)"
   ]
  },
  {
   "cell_type": "code",
   "execution_count": 80,
   "metadata": {},
   "outputs": [
    {
     "output_type": "stream",
     "name": "stdout",
     "text": [
      "before:\n"
     ]
    },
    {
     "output_type": "display_data",
     "data": {
      "text/plain": "array([[  1,   4,   9,  16,  25],\n       [ 36,  49,  64,  81, 100]])"
     },
     "metadata": {}
    },
    {
     "output_type": "stream",
     "name": "stdout",
     "text": [
      "after:\n"
     ]
    },
    {
     "output_type": "display_data",
     "data": {
      "text/plain": "array([[  2,   8,  18,  32,  50],\n       [ 72,  98, 128, 162, 200]])"
     },
     "metadata": {}
    }
   ],
   "source": [
    "# Mutability\n",
    "# By default nditer is a readonly view of an ndarray\n",
    "# this can be changed by supplying one or more of the many \"op_flags\"\n",
    "# See: https://numpy.org/doc/stable/reference/generated/numpy.nditer.html\n",
    "# The following example makes the nditer a read and write view over the ndarray\n",
    "# The ellipses Represents a Reference to the current cell in the ndarray\n",
    "\n",
    "mut_iter = np.nditer(mat, op_flags=[\"readwrite\"])\n",
    "\n",
    "print(\"before:\")\n",
    "display(mat)\n",
    "\n",
    "for cell in mut_iter:\n",
    "    cell[...] = cell * 2\n",
    "\n",
    "print(\"after:\")\n",
    "display(mat)"
   ]
  },
  {
   "cell_type": "code",
   "execution_count": null,
   "metadata": {},
   "outputs": [],
   "source": []
  }
 ]
}