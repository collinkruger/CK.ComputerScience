{
 "metadata": {
  "language_info": {
   "codemirror_mode": {
    "name": "ipython",
    "version": 3
   },
   "file_extension": ".py",
   "mimetype": "text/x-python",
   "name": "python",
   "nbconvert_exporter": "python",
   "pygments_lexer": "ipython3",
   "version": "3.8.6"
  },
  "orig_nbformat": 2,
  "kernelspec": {
   "name": "python3",
   "display_name": "Python 3.8.6 64-bit",
   "metadata": {
    "interpreter": {
     "hash": "31f2aee4e71d21fbe5cf8b01ff0e069b9275f58929596ceb00d14d90e3e16cd6"
    }
   }
  }
 },
 "nbformat": 4,
 "nbformat_minor": 2,
 "cells": [
  {
   "cell_type": "code",
   "execution_count": 1,
   "metadata": {},
   "outputs": [],
   "source": [
    "import numpy as np"
   ]
  },
  {
   "cell_type": "code",
   "execution_count": 2,
   "metadata": {},
   "outputs": [
    {
     "output_type": "display_data",
     "data": {
      "text/plain": "array(['Life, The Universe, And Everything', 'Agent 99', 'Unit'],\n      dtype='<U34')"
     },
     "metadata": {}
    },
    {
     "output_type": "display_data",
     "data": {
      "text/plain": "array([['Life, The Universe, And Everything', 'Agent 99', 'Unit'],\n       ['42', '99', '1']], dtype='<U34')"
     },
     "metadata": {}
    }
   ],
   "source": [
    "vec = np.array([\"Life, The Universe, And Everything\", \"Agent 99\", \"Unit\"])\n",
    "\n",
    "mat = np.array([[\"Life, The Universe, And Everything\", \"Agent 99\", \"Unit\"],\n",
    "                [42,                                   99,          1    ]])\n",
    "\n",
    "display(vec)\n",
    "display(mat)"
   ]
  },
  {
   "cell_type": "code",
   "execution_count": 3,
   "metadata": {},
   "outputs": [
    {
     "output_type": "display_data",
     "data": {
      "text/plain": "(3,)"
     },
     "metadata": {}
    },
    {
     "output_type": "display_data",
     "data": {
      "text/plain": "(2, 3)"
     },
     "metadata": {}
    }
   ],
   "source": [
    "display(vec.shape)\n",
    "display(mat.shape)"
   ]
  },
  {
   "cell_type": "code",
   "execution_count": 4,
   "metadata": {},
   "outputs": [
    {
     "output_type": "display_data",
     "data": {
      "text/plain": "array(['Life, The Universe, And Everything', 'Agent 99', 'Unit'],\n      dtype='<U34')"
     },
     "metadata": {}
    },
    {
     "output_type": "display_data",
     "data": {
      "text/plain": "array(['Life, The Universe, And Everything', 'Agent 99', 'Unit', '42',\n       '99', '1'], dtype='<U34')"
     },
     "metadata": {}
    }
   ],
   "source": [
    "# \"ravel\" is similar to flatten EXCEPT a NEW ndarray is created ONLY IF NEEDED\n",
    "# Meaning, if ravel is called on a 1D ndarray, the Original array will be returned\n",
    "# For non-1D ndarrays, a new ndarray is returned\n",
    "# Similar to flatten and nditer, ordering and other flags can be provided\n",
    "# See: https://numpy.org/doc/stable/reference/generated/numpy.ravel.html\n",
    "\n",
    "display(vec.ravel())\n",
    "display(mat.ravel())"
   ]
  },
  {
   "cell_type": "code",
   "execution_count": 5,
   "metadata": {},
   "outputs": [
    {
     "output_type": "stream",
     "name": "stdout",
     "text": [
      "Original:\n"
     ]
    },
    {
     "output_type": "display_data",
     "data": {
      "text/plain": "array([['Life, The Universe, And Everything', 'Agent 99', 'Unit'],\n       ['42', '99', '1']], dtype='<U34')"
     },
     "metadata": {}
    },
    {
     "output_type": "stream",
     "name": "stdout",
     "text": [
      "\nmat.T:\n"
     ]
    },
    {
     "output_type": "display_data",
     "data": {
      "text/plain": "array([['Life, The Universe, And Everything', '42'],\n       ['Agent 99', '99'],\n       ['Unit', '1']], dtype='<U34')"
     },
     "metadata": {}
    },
    {
     "output_type": "stream",
     "name": "stdout",
     "text": [
      "\nnp.transpose(mat):\n"
     ]
    },
    {
     "output_type": "display_data",
     "data": {
      "text/plain": "array([['Life, The Universe, And Everything', '42'],\n       ['Agent 99', '99'],\n       ['Unit', '1']], dtype='<U34')"
     },
     "metadata": {}
    }
   ],
   "source": [
    "# The \"T\" attribute contains a transposed version of the current ndarray (matrix)\n",
    "# np.transpose(x) is equivalent\n",
    "# See: https://numpy.org/doc/stable/reference/generated/numpy.ndarray.T.html\n",
    "# See: https://numpy.org/doc/stable/reference/generated/numpy.transpose.html#numpy.transpose\n",
    "\n",
    "print(\"Original:\")\n",
    "display(mat)\n",
    "\n",
    "print(\"\\nmat.T:\")\n",
    "display(mat.T)\n",
    "\n",
    "print(\"\\nnp.transpose(mat):\")\n",
    "display(np.transpose(mat))"
   ]
  },
  {
   "cell_type": "code",
   "execution_count": 6,
   "metadata": {},
   "outputs": [
    {
     "output_type": "execute_result",
     "data": {
      "text/plain": [
       "array([['Life, The Universe, And Everything', 'Agent 99', 'Unit', '42',\n",
       "        '99', '1']], dtype='<U34')"
      ]
     },
     "metadata": {},
     "execution_count": 6
    }
   ],
   "source": [
    "# For info on the \"reshape\" method, check out the reshape cells in the 1-Basics notebook\n",
    "\n",
    "mat.reshape(-1, 6)"
   ]
  },
  {
   "cell_type": "code",
   "execution_count": 11,
   "metadata": {},
   "outputs": [
    {
     "output_type": "execute_result",
     "data": {
      "text/plain": [
       "array([['Life, The Universe, And Everything', 'Agent 99'],\n",
       "       ['Unit', '42'],\n",
       "       ['99', '1']], dtype='<U34')"
      ]
     },
     "metadata": {},
     "execution_count": 11
    }
   ],
   "source": [
    "# The shape of an ndarray can be updated in place\n",
    "# by assign a tuple of dimension lengths to the \"shape\" attribute\n",
    "\n",
    "mat.shape = 3,-1\n",
    "mat"
   ]
  },
  {
   "cell_type": "code",
   "execution_count": null,
   "metadata": {},
   "outputs": [],
   "source": []
  }
 ]
}