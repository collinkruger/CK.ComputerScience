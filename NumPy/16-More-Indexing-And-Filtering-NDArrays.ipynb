{
 "metadata": {
  "orig_nbformat": 2,
  "kernelspec": {
   "name": "python3",
   "display_name": "Python 3",
   "language": "python"
  }
 },
 "nbformat": 4,
 "nbformat_minor": 2,
 "cells": [
  {
   "cell_type": "code",
   "execution_count": 1,
   "metadata": {},
   "outputs": [],
   "source": [
    "import numpy as np"
   ]
  },
  {
   "cell_type": "code",
   "execution_count": 2,
   "metadata": {},
   "outputs": [
    {
     "output_type": "display_data",
     "data": {
      "text/plain": "array([0, 1, 2, 3, 4, 5, 6, 7, 8, 9])"
     },
     "metadata": {}
    },
    {
     "output_type": "display_data",
     "data": {
      "text/plain": "array([[ 0,  1,  2,  3,  4],\n       [ 5,  6,  7,  8,  9],\n       [10, 11, 12, 13, 14],\n       [15, 16, 17, 18, 19],\n       [20, 21, 22, 23, 24]])"
     },
     "metadata": {}
    }
   ],
   "source": [
    "vec = np.arange(10)\n",
    "display(vec)\n",
    "\n",
    "mat = np.arange(25).reshape(5, 5)\n",
    "display(mat)"
   ]
  },
  {
   "cell_type": "code",
   "execution_count": 5,
   "metadata": {},
   "outputs": [
    {
     "output_type": "display_data",
     "data": {
      "text/plain": "array([ True,  True,  True,  True,  True, False, False, False, False,\n       False])"
     },
     "metadata": {}
    },
    {
     "output_type": "display_data",
     "data": {
      "text/plain": "array([[ True,  True,  True,  True,  True],\n       [ True,  True,  True,  True,  True],\n       [ True,  True,  True, False, False],\n       [False, False, False, False, False],\n       [False,  True,  True,  True,  True]])"
     },
     "metadata": {}
    }
   ],
   "source": [
    "# Using boolean returning operator with an NDArray\n",
    "# returns a boolean NDArray representing an element\n",
    "# wise return of the operator application. The resulting\n",
    "# NDArray is the same shape as the input NDArray\n",
    "\n",
    "vec_bools = vec < 5\n",
    "display(vec_bools)\n",
    "\n",
    "mat_bools = (mat <= 12) | (mat > 20)\n",
    "display(mat_bools)"
   ]
  },
  {
   "cell_type": "code",
   "execution_count": 6,
   "metadata": {},
   "outputs": [
    {
     "output_type": "execute_result",
     "data": {
      "text/plain": [
       "array([0, 1, 2, 3, 4])"
      ]
     },
     "metadata": {},
     "execution_count": 6
    }
   ],
   "source": [
    "# A bool array or NDArray passed into the index of\n",
    "# an NDArray array, behaves as a filter\n",
    "\n",
    "select_first_five = [True, True, True, True, True, False, False, False, False, False]\n",
    "vec[select_first_five]"
   ]
  },
  {
   "cell_type": "code",
   "execution_count": 13,
   "metadata": {},
   "outputs": [
    {
     "output_type": "display_data",
     "data": {
      "text/plain": "5"
     },
     "metadata": {}
    },
    {
     "output_type": "display_data",
     "data": {
      "text/plain": "5"
     },
     "metadata": {}
    },
    {
     "output_type": "display_data",
     "data": {
      "text/plain": "5"
     },
     "metadata": {}
    },
    {
     "output_type": "display_data",
     "data": {
      "text/plain": "5"
     },
     "metadata": {}
    },
    {
     "output_type": "display_data",
     "data": {
      "text/plain": "5"
     },
     "metadata": {}
    },
    {
     "output_type": "display_data",
     "data": {
      "text/plain": "5"
     },
     "metadata": {}
    },
    {
     "output_type": "display_data",
     "data": {
      "text/plain": "5"
     },
     "metadata": {}
    },
    {
     "output_type": "display_data",
     "data": {
      "text/plain": "5"
     },
     "metadata": {}
    },
    {
     "output_type": "display_data",
     "data": {
      "text/plain": "5"
     },
     "metadata": {}
    },
    {
     "output_type": "display_data",
     "data": {
      "text/plain": "5"
     },
     "metadata": {}
    }
   ],
   "source": [
    "# Aggregate functions such as sum, count_nonezero, all, etc.\n",
    "# can accept Boolean NDArrays or arrays, treating\n",
    "# True as 1 and False as 0.\n",
    "\n",
    "vec_bools = [True, True, True, True, True, False, False, False, False]\n",
    "vec_bools_nd = np.array(bools)\n",
    "\n",
    "display( np.count_nonzero(vec_bools) )\n",
    "display( np.count_nonzero(vec_bools_nd) )\n",
    "\n",
    "display( np.sum(vec_bools) )\n",
    "display( np.sum(vec_bools_nd) )\n",
    "\n",
    "\n",
    "mat_bools = [[True, True, True, True, True],\n",
    "             [False, False, False, False, False],\n",
    "             [False, False, False, False, False],\n",
    "             [False, False, False, False, False],\n",
    "             [False, False, False, False, False]]\n",
    "mat_bools_nd = np.array(mat_bools)\n",
    "\n",
    "display( np.count_nonzero(mat_bools) )\n",
    "display( np.count_nonzero(mat_bools_nd) )\n",
    "\n",
    "display( np.sum(mat_bools) )\n",
    "display( np.sum(mat_bools_nd) )"
   ]
  },
  {
   "cell_type": "code",
   "execution_count": 14,
   "metadata": {},
   "outputs": [
    {
     "output_type": "display_data",
     "data": {
      "text/plain": "5"
     },
     "metadata": {}
    },
    {
     "output_type": "display_data",
     "data": {
      "text/plain": "5"
     },
     "metadata": {}
    },
    {
     "output_type": "display_data",
     "data": {
      "text/plain": "5"
     },
     "metadata": {}
    },
    {
     "output_type": "display_data",
     "data": {
      "text/plain": "5"
     },
     "metadata": {}
    }
   ],
   "source": [
    "# And since we can use boolean returning operators\n",
    "# to transform numeric ndarrays into boolean ndarrays\n",
    "# we can count numeric values that match a certain\n",
    "\n",
    "display( np.count_nonzero(vec < 5) )\n",
    "display( np.sum(vec < 5) )\n",
    "\n",
    "display( np.count_nonzero(mat < 5) )\n",
    "display( np.sum(mat < 5) )"
   ]
  },
  {
   "cell_type": "code",
   "execution_count": 16,
   "metadata": {},
   "outputs": [
    {
     "output_type": "execute_result",
     "data": {
      "text/plain": [
       "array([5, 5, 3, 0, 0])"
      ]
     },
     "metadata": {},
     "execution_count": 16
    }
   ],
   "source": [
    "# Aggregating can also be done per axis\n",
    "# In this case we're counting the number\n",
    "# of elements that match a filter in a given row\n",
    "\n",
    "np.sum(mat <= 12, axis=1)"
   ]
  },
  {
   "cell_type": "code",
   "execution_count": 17,
   "metadata": {},
   "outputs": [
    {
     "output_type": "execute_result",
     "data": {
      "text/plain": [
       "array([5, 5, 3, 0, 4])"
      ]
     },
     "metadata": {},
     "execution_count": 17
    }
   ],
   "source": [
    "# Multiple filters can be used together\n",
    "\n",
    "np.sum((mat <= 12) | (mat > 20), axis=1)"
   ]
  }
 ]
}